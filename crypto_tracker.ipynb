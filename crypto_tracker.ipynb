{
 "cells": [
  {
   "cell_type": "markdown",
   "source": [
    "<h4> CRYPTO TRACKER </h4>\n"
   ],
   "metadata": {
    "collapsed": false,
    "pycharm": {
     "name": "#%% md\n"
    }
   }
  },
  {
   "cell_type": "code",
   "execution_count": 1,
   "metadata": {
    "collapsed": true
   },
   "outputs": [],
   "source": [
    "import pandas as pd\n",
    "import datetime as dt\n",
    "import time\n",
    "from binance import Client\n",
    "import xlsxwriter\n",
    "import xlwings as xw"
   ]
  },
  {
   "cell_type": "code",
   "execution_count": 2,
   "outputs": [],
   "source": [
    "\n",
    "#Clients API\n",
    "api = \"{your API key}\"\n",
    "secret = \"{your API secret}\""
   ],
   "metadata": {
    "collapsed": false,
    "pycharm": {
     "name": "#%%\n"
    }
   }
  },
  {
   "cell_type": "code",
   "execution_count": 3,
   "outputs": [],
   "source": [
    "client = Client(api, secret)"
   ],
   "metadata": {
    "collapsed": false,
    "pycharm": {
     "name": "#%%\n"
    }
   }
  },
  {
   "cell_type": "code",
   "execution_count": 4,
   "outputs": [
    {
     "name": "stdout",
     "output_type": "stream",
     "text": [
      "<class 'pandas.core.frame.DataFrame'>\n",
      "RangeIndex: 50 entries, 0 to 49\n",
      "Data columns (total 2 columns):\n",
      " #   Column  Non-Null Count  Dtype         \n",
      "---  ------  --------------  -----         \n",
      " 0   coin    50 non-null     object        \n",
      " 1   date    50 non-null     datetime64[ns]\n",
      "dtypes: datetime64[ns](1), object(1)\n",
      "memory usage: 3.6 KB\n"
     ]
    },
    {
     "data": {
      "text/plain": "         coin       date\n0     ADAUSDT 2022-03-23\n1     ADAUSDT 2022-03-25\n2     ETHUSDT 2021-08-11\n3     ETHUSDT 2021-08-14\n4     BTCUSDT 2021-08-08\n5      HSRBTC 2021-02-04\n6      OAXETH 2022-06-02\n7      DNTETH 2021-06-07\n8      MCOETH 2022-03-23\n9      ICNETH 2021-08-08\n10     MCOBTC 2021-08-08\n11     WTCBTC 2021-02-04\n12     WTCETH 2022-06-02\n13     LRCBTC 2021-06-07\n14     LRCETH 2022-03-23\n15    QTUMBTC 2021-08-08\n16    YOYOBTC 2021-08-08\n17     OMGBTC 2021-02-04\n18     SNXETH 2022-06-02\n19   WBTCBUSD 2021-06-07\n20     BELETH 2022-03-23\n21     LITETH 2021-08-08\n22  LEVERUSDT 2021-08-08\n23  LEVERBUSD 2021-02-04\n24  BURGERETH 2022-06-02\n25  PEOPLEETH 2021-06-07\n26    UNFIETH 2022-03-23\n27    BONDETH 2021-08-08\n28   STORJTRY 2021-08-08\n29      OPETH 2022-06-02\n30     ETCTRY 2021-06-07\n31    WINGETH 2022-03-23\n32     FILETH 2021-08-08\n33    GLMBUSD 2021-08-08\n34    SSVBUSD 2021-02-04\n35     STGBTC 2022-06-02\n36    STGBUSD 2021-06-07\n37    STGUSDT 2022-03-23\n38    ANKRTRY 2021-08-08\n39    ARKBUSD 2021-08-08\n40   BETHBUSD 2021-02-04\n41   LOOMBUSD 2022-06-02\n42    SNMBUSD 2021-06-07\n43    AMBBUSD 2022-03-23\n44   LUNCUSDT 2021-08-08\n45    PHBBUSD 2021-08-08\n46    GASBUSD 2021-02-04\n47   NEBLBUSD 2022-06-02\n48   PROSBUSD 2021-06-07\n49    VIBBUSD 2022-03-23",
      "text/html": "<div>\n<style scoped>\n    .dataframe tbody tr th:only-of-type {\n        vertical-align: middle;\n    }\n\n    .dataframe tbody tr th {\n        vertical-align: top;\n    }\n\n    .dataframe thead th {\n        text-align: right;\n    }\n</style>\n<table border=\"1\" class=\"dataframe\">\n  <thead>\n    <tr style=\"text-align: right;\">\n      <th></th>\n      <th>coin</th>\n      <th>date</th>\n    </tr>\n  </thead>\n  <tbody>\n    <tr>\n      <th>0</th>\n      <td>ADAUSDT</td>\n      <td>2022-03-23</td>\n    </tr>\n    <tr>\n      <th>1</th>\n      <td>ADAUSDT</td>\n      <td>2022-03-25</td>\n    </tr>\n    <tr>\n      <th>2</th>\n      <td>ETHUSDT</td>\n      <td>2021-08-11</td>\n    </tr>\n    <tr>\n      <th>3</th>\n      <td>ETHUSDT</td>\n      <td>2021-08-14</td>\n    </tr>\n    <tr>\n      <th>4</th>\n      <td>BTCUSDT</td>\n      <td>2021-08-08</td>\n    </tr>\n    <tr>\n      <th>5</th>\n      <td>HSRBTC</td>\n      <td>2021-02-04</td>\n    </tr>\n    <tr>\n      <th>6</th>\n      <td>OAXETH</td>\n      <td>2022-06-02</td>\n    </tr>\n    <tr>\n      <th>7</th>\n      <td>DNTETH</td>\n      <td>2021-06-07</td>\n    </tr>\n    <tr>\n      <th>8</th>\n      <td>MCOETH</td>\n      <td>2022-03-23</td>\n    </tr>\n    <tr>\n      <th>9</th>\n      <td>ICNETH</td>\n      <td>2021-08-08</td>\n    </tr>\n    <tr>\n      <th>10</th>\n      <td>MCOBTC</td>\n      <td>2021-08-08</td>\n    </tr>\n    <tr>\n      <th>11</th>\n      <td>WTCBTC</td>\n      <td>2021-02-04</td>\n    </tr>\n    <tr>\n      <th>12</th>\n      <td>WTCETH</td>\n      <td>2022-06-02</td>\n    </tr>\n    <tr>\n      <th>13</th>\n      <td>LRCBTC</td>\n      <td>2021-06-07</td>\n    </tr>\n    <tr>\n      <th>14</th>\n      <td>LRCETH</td>\n      <td>2022-03-23</td>\n    </tr>\n    <tr>\n      <th>15</th>\n      <td>QTUMBTC</td>\n      <td>2021-08-08</td>\n    </tr>\n    <tr>\n      <th>16</th>\n      <td>YOYOBTC</td>\n      <td>2021-08-08</td>\n    </tr>\n    <tr>\n      <th>17</th>\n      <td>OMGBTC</td>\n      <td>2021-02-04</td>\n    </tr>\n    <tr>\n      <th>18</th>\n      <td>SNXETH</td>\n      <td>2022-06-02</td>\n    </tr>\n    <tr>\n      <th>19</th>\n      <td>WBTCBUSD</td>\n      <td>2021-06-07</td>\n    </tr>\n    <tr>\n      <th>20</th>\n      <td>BELETH</td>\n      <td>2022-03-23</td>\n    </tr>\n    <tr>\n      <th>21</th>\n      <td>LITETH</td>\n      <td>2021-08-08</td>\n    </tr>\n    <tr>\n      <th>22</th>\n      <td>LEVERUSDT</td>\n      <td>2021-08-08</td>\n    </tr>\n    <tr>\n      <th>23</th>\n      <td>LEVERBUSD</td>\n      <td>2021-02-04</td>\n    </tr>\n    <tr>\n      <th>24</th>\n      <td>BURGERETH</td>\n      <td>2022-06-02</td>\n    </tr>\n    <tr>\n      <th>25</th>\n      <td>PEOPLEETH</td>\n      <td>2021-06-07</td>\n    </tr>\n    <tr>\n      <th>26</th>\n      <td>UNFIETH</td>\n      <td>2022-03-23</td>\n    </tr>\n    <tr>\n      <th>27</th>\n      <td>BONDETH</td>\n      <td>2021-08-08</td>\n    </tr>\n    <tr>\n      <th>28</th>\n      <td>STORJTRY</td>\n      <td>2021-08-08</td>\n    </tr>\n    <tr>\n      <th>29</th>\n      <td>OPETH</td>\n      <td>2022-06-02</td>\n    </tr>\n    <tr>\n      <th>30</th>\n      <td>ETCTRY</td>\n      <td>2021-06-07</td>\n    </tr>\n    <tr>\n      <th>31</th>\n      <td>WINGETH</td>\n      <td>2022-03-23</td>\n    </tr>\n    <tr>\n      <th>32</th>\n      <td>FILETH</td>\n      <td>2021-08-08</td>\n    </tr>\n    <tr>\n      <th>33</th>\n      <td>GLMBUSD</td>\n      <td>2021-08-08</td>\n    </tr>\n    <tr>\n      <th>34</th>\n      <td>SSVBUSD</td>\n      <td>2021-02-04</td>\n    </tr>\n    <tr>\n      <th>35</th>\n      <td>STGBTC</td>\n      <td>2022-06-02</td>\n    </tr>\n    <tr>\n      <th>36</th>\n      <td>STGBUSD</td>\n      <td>2021-06-07</td>\n    </tr>\n    <tr>\n      <th>37</th>\n      <td>STGUSDT</td>\n      <td>2022-03-23</td>\n    </tr>\n    <tr>\n      <th>38</th>\n      <td>ANKRTRY</td>\n      <td>2021-08-08</td>\n    </tr>\n    <tr>\n      <th>39</th>\n      <td>ARKBUSD</td>\n      <td>2021-08-08</td>\n    </tr>\n    <tr>\n      <th>40</th>\n      <td>BETHBUSD</td>\n      <td>2021-02-04</td>\n    </tr>\n    <tr>\n      <th>41</th>\n      <td>LOOMBUSD</td>\n      <td>2022-06-02</td>\n    </tr>\n    <tr>\n      <th>42</th>\n      <td>SNMBUSD</td>\n      <td>2021-06-07</td>\n    </tr>\n    <tr>\n      <th>43</th>\n      <td>AMBBUSD</td>\n      <td>2022-03-23</td>\n    </tr>\n    <tr>\n      <th>44</th>\n      <td>LUNCUSDT</td>\n      <td>2021-08-08</td>\n    </tr>\n    <tr>\n      <th>45</th>\n      <td>PHBBUSD</td>\n      <td>2021-08-08</td>\n    </tr>\n    <tr>\n      <th>46</th>\n      <td>GASBUSD</td>\n      <td>2021-02-04</td>\n    </tr>\n    <tr>\n      <th>47</th>\n      <td>NEBLBUSD</td>\n      <td>2022-06-02</td>\n    </tr>\n    <tr>\n      <th>48</th>\n      <td>PROSBUSD</td>\n      <td>2021-06-07</td>\n    </tr>\n    <tr>\n      <th>49</th>\n      <td>VIBBUSD</td>\n      <td>2022-03-23</td>\n    </tr>\n  </tbody>\n</table>\n</div>"
     },
     "execution_count": 4,
     "metadata": {},
     "output_type": "execute_result"
    }
   ],
   "source": [
    "# READING THE EXCEL FILE\n",
    "input_df = pd.read_excel('C:/Abdul/My Document/Fiverr/Projects/Cryptocurrency Tracker/Excel_Automation/input_template.xlsx')\n",
    "input_df.info(memory_usage='deep')\n",
    "input_df"
   ],
   "metadata": {
    "collapsed": false,
    "pycharm": {
     "name": "#%%\n"
    }
   }
  },
  {
   "cell_type": "code",
   "execution_count": 5,
   "outputs": [
    {
     "data": {
      "text/plain": "               0           1           2           3           4  \\\n0   1.647907e+12  0.91700000  0.98800000  0.90700000  0.97500000   \n1   1.647994e+12  0.97500000  1.11000000  0.95700000  1.10800000   \n2   1.648080e+12  1.10800000  1.19000000  1.07600000  1.13100000   \n3   1.648166e+12  1.13000000  1.16700000  1.07200000  1.09600000   \n4   1.648253e+12  1.09600000  1.16000000  1.07900000  1.15200000   \n..           ...         ...         ...         ...         ...   \n81  1.612656e+12  0.00012510  0.00012770  0.00011400  0.00011930   \n82  1.612742e+12  0.00011940  0.00012770  0.00010210  0.00010490   \n83  1.612829e+12  0.00010490  0.00011250  0.00010000  0.00011000   \n84  1.612915e+12  0.00011020  0.00012750  0.00010860  0.00012460   \n85  1.613002e+12  0.00012440  0.00013840  0.00012030  0.00012400   \n\n                     5             6                   7         8  \\\n0   172058469.40000000  1.647994e+12  164577626.02880000  280866.0   \n1   362447245.10000000  1.648080e+12  376836453.72380000  645078.0   \n2   390982460.00000000  1.648166e+12  445651286.52840000  702338.0   \n3   290456883.70000000  1.648253e+12  324802638.26710000  506738.0   \n4   143117986.10000000  1.648339e+12  161024339.18000000  271206.0   \n..                 ...           ...                 ...       ...   \n81    2325376.53000000  1.612742e+12        279.73482168   23680.0   \n82    3215604.10000000  1.612829e+12        368.74653082   31702.0   \n83    2758950.39000000  1.612915e+12        293.53937449   28750.0   \n84    4266072.69000000  1.613002e+12        503.51593342   47339.0   \n85    5044437.43000000  1.613088e+12        648.62957568   46941.0   \n\n                     9                  10 11   symbol  \n0    88354357.00000000   84498976.32020000  0  ADAUSDT  \n1   189677928.70000000  197436607.68670000  0  ADAUSDT  \n2   192422645.50000000  219300288.94500000  0  ADAUSDT  \n3   140613667.10000000  157248129.85860000  0  ADAUSDT  \n4    75325602.00000000   84777494.22780000  0  ADAUSDT  \n..                 ...                 ... ..      ...  \n81    1075597.54000000        129.45485986  0   OMGBTC  \n82    1470566.32000000        167.96128796  0   OMGBTC  \n83    1337441.40000000        142.31145139  0   OMGBTC  \n84    2078812.96000000        245.71468026  0   OMGBTC  \n85    2439064.40000000        314.28802912  0   OMGBTC  \n\n[86 rows x 13 columns]",
      "text/html": "<div>\n<style scoped>\n    .dataframe tbody tr th:only-of-type {\n        vertical-align: middle;\n    }\n\n    .dataframe tbody tr th {\n        vertical-align: top;\n    }\n\n    .dataframe thead th {\n        text-align: right;\n    }\n</style>\n<table border=\"1\" class=\"dataframe\">\n  <thead>\n    <tr style=\"text-align: right;\">\n      <th></th>\n      <th>0</th>\n      <th>1</th>\n      <th>2</th>\n      <th>3</th>\n      <th>4</th>\n      <th>5</th>\n      <th>6</th>\n      <th>7</th>\n      <th>8</th>\n      <th>9</th>\n      <th>10</th>\n      <th>11</th>\n      <th>symbol</th>\n    </tr>\n  </thead>\n  <tbody>\n    <tr>\n      <th>0</th>\n      <td>1.647907e+12</td>\n      <td>0.91700000</td>\n      <td>0.98800000</td>\n      <td>0.90700000</td>\n      <td>0.97500000</td>\n      <td>172058469.40000000</td>\n      <td>1.647994e+12</td>\n      <td>164577626.02880000</td>\n      <td>280866.0</td>\n      <td>88354357.00000000</td>\n      <td>84498976.32020000</td>\n      <td>0</td>\n      <td>ADAUSDT</td>\n    </tr>\n    <tr>\n      <th>1</th>\n      <td>1.647994e+12</td>\n      <td>0.97500000</td>\n      <td>1.11000000</td>\n      <td>0.95700000</td>\n      <td>1.10800000</td>\n      <td>362447245.10000000</td>\n      <td>1.648080e+12</td>\n      <td>376836453.72380000</td>\n      <td>645078.0</td>\n      <td>189677928.70000000</td>\n      <td>197436607.68670000</td>\n      <td>0</td>\n      <td>ADAUSDT</td>\n    </tr>\n    <tr>\n      <th>2</th>\n      <td>1.648080e+12</td>\n      <td>1.10800000</td>\n      <td>1.19000000</td>\n      <td>1.07600000</td>\n      <td>1.13100000</td>\n      <td>390982460.00000000</td>\n      <td>1.648166e+12</td>\n      <td>445651286.52840000</td>\n      <td>702338.0</td>\n      <td>192422645.50000000</td>\n      <td>219300288.94500000</td>\n      <td>0</td>\n      <td>ADAUSDT</td>\n    </tr>\n    <tr>\n      <th>3</th>\n      <td>1.648166e+12</td>\n      <td>1.13000000</td>\n      <td>1.16700000</td>\n      <td>1.07200000</td>\n      <td>1.09600000</td>\n      <td>290456883.70000000</td>\n      <td>1.648253e+12</td>\n      <td>324802638.26710000</td>\n      <td>506738.0</td>\n      <td>140613667.10000000</td>\n      <td>157248129.85860000</td>\n      <td>0</td>\n      <td>ADAUSDT</td>\n    </tr>\n    <tr>\n      <th>4</th>\n      <td>1.648253e+12</td>\n      <td>1.09600000</td>\n      <td>1.16000000</td>\n      <td>1.07900000</td>\n      <td>1.15200000</td>\n      <td>143117986.10000000</td>\n      <td>1.648339e+12</td>\n      <td>161024339.18000000</td>\n      <td>271206.0</td>\n      <td>75325602.00000000</td>\n      <td>84777494.22780000</td>\n      <td>0</td>\n      <td>ADAUSDT</td>\n    </tr>\n    <tr>\n      <th>...</th>\n      <td>...</td>\n      <td>...</td>\n      <td>...</td>\n      <td>...</td>\n      <td>...</td>\n      <td>...</td>\n      <td>...</td>\n      <td>...</td>\n      <td>...</td>\n      <td>...</td>\n      <td>...</td>\n      <td>...</td>\n      <td>...</td>\n    </tr>\n    <tr>\n      <th>81</th>\n      <td>1.612656e+12</td>\n      <td>0.00012510</td>\n      <td>0.00012770</td>\n      <td>0.00011400</td>\n      <td>0.00011930</td>\n      <td>2325376.53000000</td>\n      <td>1.612742e+12</td>\n      <td>279.73482168</td>\n      <td>23680.0</td>\n      <td>1075597.54000000</td>\n      <td>129.45485986</td>\n      <td>0</td>\n      <td>OMGBTC</td>\n    </tr>\n    <tr>\n      <th>82</th>\n      <td>1.612742e+12</td>\n      <td>0.00011940</td>\n      <td>0.00012770</td>\n      <td>0.00010210</td>\n      <td>0.00010490</td>\n      <td>3215604.10000000</td>\n      <td>1.612829e+12</td>\n      <td>368.74653082</td>\n      <td>31702.0</td>\n      <td>1470566.32000000</td>\n      <td>167.96128796</td>\n      <td>0</td>\n      <td>OMGBTC</td>\n    </tr>\n    <tr>\n      <th>83</th>\n      <td>1.612829e+12</td>\n      <td>0.00010490</td>\n      <td>0.00011250</td>\n      <td>0.00010000</td>\n      <td>0.00011000</td>\n      <td>2758950.39000000</td>\n      <td>1.612915e+12</td>\n      <td>293.53937449</td>\n      <td>28750.0</td>\n      <td>1337441.40000000</td>\n      <td>142.31145139</td>\n      <td>0</td>\n      <td>OMGBTC</td>\n    </tr>\n    <tr>\n      <th>84</th>\n      <td>1.612915e+12</td>\n      <td>0.00011020</td>\n      <td>0.00012750</td>\n      <td>0.00010860</td>\n      <td>0.00012460</td>\n      <td>4266072.69000000</td>\n      <td>1.613002e+12</td>\n      <td>503.51593342</td>\n      <td>47339.0</td>\n      <td>2078812.96000000</td>\n      <td>245.71468026</td>\n      <td>0</td>\n      <td>OMGBTC</td>\n    </tr>\n    <tr>\n      <th>85</th>\n      <td>1.613002e+12</td>\n      <td>0.00012440</td>\n      <td>0.00013840</td>\n      <td>0.00012030</td>\n      <td>0.00012400</td>\n      <td>5044437.43000000</td>\n      <td>1.613088e+12</td>\n      <td>648.62957568</td>\n      <td>46941.0</td>\n      <td>2439064.40000000</td>\n      <td>314.28802912</td>\n      <td>0</td>\n      <td>OMGBTC</td>\n    </tr>\n  </tbody>\n</table>\n<p>86 rows × 13 columns</p>\n</div>"
     },
     "execution_count": 5,
     "metadata": {},
     "output_type": "execute_result"
    }
   ],
   "source": [
    "# GET HISTORICAL CRYPTO OHLC VALUES\n",
    "def get_hist_crypto_data():\n",
    "    history_df = pd.DataFrame()\n",
    "    for i, row in input_df.iterrows():\n",
    "        df_row = input_df.iloc[i]\n",
    "        symbol = str(df_row['coin'])\n",
    "        date = str(df_row['date'])\n",
    "\n",
    "        # creating start date and end date\n",
    "        date_temp = dt.datetime.strptime(date, '%Y-%m-%d %H:%M:%S')\n",
    "        start_date = date_temp - dt.timedelta(days=1)\n",
    "        end_date = date_temp + dt.timedelta(days=7)\n",
    "\n",
    "        # converting the datetime into seconds of timestamp\n",
    "        start_date_in_sec = str(\n",
    "            int(time.mktime(dt.datetime.strptime(str(start_date), \"%Y-%m-%d %H:%M:%S\").timetuple())))\n",
    "        end_date_in_sec = str(\n",
    "            int(time.mktime(dt.datetime.strptime(str(end_date), \"%Y-%m-%d %H:%M:%S\").timetuple())))\n",
    "\n",
    "        historical = client.get_historical_klines(symbol,\n",
    "                                                  interval='1d',\n",
    "                                                  start_str=start_date_in_sec,\n",
    "                                                  end_str=end_date_in_sec)\n",
    "        historical_df = pd.DataFrame(historical)\n",
    "        historical_df['symbol'] = symbol\n",
    "        history_df = pd.concat([history_df, historical_df], ignore_index=True, axis=0).drop_duplicates()\n",
    "\n",
    "    return history_df\n",
    "\n",
    "hist_df = get_hist_crypto_data()\n",
    "hist_df"
   ],
   "metadata": {
    "collapsed": false,
    "pycharm": {
     "name": "#%%\n"
    }
   }
  },
  {
   "cell_type": "code",
   "execution_count": 6,
   "outputs": [
    {
     "data": {
      "text/plain": "               0           1           2           3           4  \\\n0   1.647907e+12  0.91700000  0.98800000  0.90700000  0.97500000   \n1   1.647994e+12  0.97500000  1.11000000  0.95700000  1.10800000   \n2   1.648080e+12  1.10800000  1.19000000  1.07600000  1.13100000   \n3   1.648166e+12  1.13000000  1.16700000  1.07200000  1.09600000   \n4   1.648253e+12  1.09600000  1.16000000  1.07900000  1.15200000   \n..           ...         ...         ...         ...         ...   \n81  1.612656e+12  0.00012510  0.00012770  0.00011400  0.00011930   \n82  1.612742e+12  0.00011940  0.00012770  0.00010210  0.00010490   \n83  1.612829e+12  0.00010490  0.00011250  0.00010000  0.00011000   \n84  1.612915e+12  0.00011020  0.00012750  0.00010860  0.00012460   \n85  1.613002e+12  0.00012440  0.00013840  0.00012030  0.00012400   \n\n                     5             6                   7         8  \\\n0   172058469.40000000  1.647994e+12  164577626.02880000  280866.0   \n1   362447245.10000000  1.648080e+12  376836453.72380000  645078.0   \n2   390982460.00000000  1.648166e+12  445651286.52840000  702338.0   \n3   290456883.70000000  1.648253e+12  324802638.26710000  506738.0   \n4   143117986.10000000  1.648339e+12  161024339.18000000  271206.0   \n..                 ...           ...                 ...       ...   \n81    2325376.53000000  1.612742e+12        279.73482168   23680.0   \n82    3215604.10000000  1.612829e+12        368.74653082   31702.0   \n83    2758950.39000000  1.612915e+12        293.53937449   28750.0   \n84    4266072.69000000  1.613002e+12        503.51593342   47339.0   \n85    5044437.43000000  1.613088e+12        648.62957568   46941.0   \n\n                     9                  10 11   symbol  \n0    88354357.00000000   84498976.32020000  0  ADAUSDT  \n1   189677928.70000000  197436607.68670000  0  ADAUSDT  \n2   192422645.50000000  219300288.94500000  0  ADAUSDT  \n3   140613667.10000000  157248129.85860000  0  ADAUSDT  \n4    75325602.00000000   84777494.22780000  0  ADAUSDT  \n..                 ...                 ... ..      ...  \n81    1075597.54000000        129.45485986  0   OMGBTC  \n82    1470566.32000000        167.96128796  0   OMGBTC  \n83    1337441.40000000        142.31145139  0   OMGBTC  \n84    2078812.96000000        245.71468026  0   OMGBTC  \n85    2439064.40000000        314.28802912  0   OMGBTC  \n\n[86 rows x 13 columns]",
      "text/html": "<div>\n<style scoped>\n    .dataframe tbody tr th:only-of-type {\n        vertical-align: middle;\n    }\n\n    .dataframe tbody tr th {\n        vertical-align: top;\n    }\n\n    .dataframe thead th {\n        text-align: right;\n    }\n</style>\n<table border=\"1\" class=\"dataframe\">\n  <thead>\n    <tr style=\"text-align: right;\">\n      <th></th>\n      <th>0</th>\n      <th>1</th>\n      <th>2</th>\n      <th>3</th>\n      <th>4</th>\n      <th>5</th>\n      <th>6</th>\n      <th>7</th>\n      <th>8</th>\n      <th>9</th>\n      <th>10</th>\n      <th>11</th>\n      <th>symbol</th>\n    </tr>\n  </thead>\n  <tbody>\n    <tr>\n      <th>0</th>\n      <td>1.647907e+12</td>\n      <td>0.91700000</td>\n      <td>0.98800000</td>\n      <td>0.90700000</td>\n      <td>0.97500000</td>\n      <td>172058469.40000000</td>\n      <td>1.647994e+12</td>\n      <td>164577626.02880000</td>\n      <td>280866.0</td>\n      <td>88354357.00000000</td>\n      <td>84498976.32020000</td>\n      <td>0</td>\n      <td>ADAUSDT</td>\n    </tr>\n    <tr>\n      <th>1</th>\n      <td>1.647994e+12</td>\n      <td>0.97500000</td>\n      <td>1.11000000</td>\n      <td>0.95700000</td>\n      <td>1.10800000</td>\n      <td>362447245.10000000</td>\n      <td>1.648080e+12</td>\n      <td>376836453.72380000</td>\n      <td>645078.0</td>\n      <td>189677928.70000000</td>\n      <td>197436607.68670000</td>\n      <td>0</td>\n      <td>ADAUSDT</td>\n    </tr>\n    <tr>\n      <th>2</th>\n      <td>1.648080e+12</td>\n      <td>1.10800000</td>\n      <td>1.19000000</td>\n      <td>1.07600000</td>\n      <td>1.13100000</td>\n      <td>390982460.00000000</td>\n      <td>1.648166e+12</td>\n      <td>445651286.52840000</td>\n      <td>702338.0</td>\n      <td>192422645.50000000</td>\n      <td>219300288.94500000</td>\n      <td>0</td>\n      <td>ADAUSDT</td>\n    </tr>\n    <tr>\n      <th>3</th>\n      <td>1.648166e+12</td>\n      <td>1.13000000</td>\n      <td>1.16700000</td>\n      <td>1.07200000</td>\n      <td>1.09600000</td>\n      <td>290456883.70000000</td>\n      <td>1.648253e+12</td>\n      <td>324802638.26710000</td>\n      <td>506738.0</td>\n      <td>140613667.10000000</td>\n      <td>157248129.85860000</td>\n      <td>0</td>\n      <td>ADAUSDT</td>\n    </tr>\n    <tr>\n      <th>4</th>\n      <td>1.648253e+12</td>\n      <td>1.09600000</td>\n      <td>1.16000000</td>\n      <td>1.07900000</td>\n      <td>1.15200000</td>\n      <td>143117986.10000000</td>\n      <td>1.648339e+12</td>\n      <td>161024339.18000000</td>\n      <td>271206.0</td>\n      <td>75325602.00000000</td>\n      <td>84777494.22780000</td>\n      <td>0</td>\n      <td>ADAUSDT</td>\n    </tr>\n    <tr>\n      <th>...</th>\n      <td>...</td>\n      <td>...</td>\n      <td>...</td>\n      <td>...</td>\n      <td>...</td>\n      <td>...</td>\n      <td>...</td>\n      <td>...</td>\n      <td>...</td>\n      <td>...</td>\n      <td>...</td>\n      <td>...</td>\n      <td>...</td>\n    </tr>\n    <tr>\n      <th>81</th>\n      <td>1.612656e+12</td>\n      <td>0.00012510</td>\n      <td>0.00012770</td>\n      <td>0.00011400</td>\n      <td>0.00011930</td>\n      <td>2325376.53000000</td>\n      <td>1.612742e+12</td>\n      <td>279.73482168</td>\n      <td>23680.0</td>\n      <td>1075597.54000000</td>\n      <td>129.45485986</td>\n      <td>0</td>\n      <td>OMGBTC</td>\n    </tr>\n    <tr>\n      <th>82</th>\n      <td>1.612742e+12</td>\n      <td>0.00011940</td>\n      <td>0.00012770</td>\n      <td>0.00010210</td>\n      <td>0.00010490</td>\n      <td>3215604.10000000</td>\n      <td>1.612829e+12</td>\n      <td>368.74653082</td>\n      <td>31702.0</td>\n      <td>1470566.32000000</td>\n      <td>167.96128796</td>\n      <td>0</td>\n      <td>OMGBTC</td>\n    </tr>\n    <tr>\n      <th>83</th>\n      <td>1.612829e+12</td>\n      <td>0.00010490</td>\n      <td>0.00011250</td>\n      <td>0.00010000</td>\n      <td>0.00011000</td>\n      <td>2758950.39000000</td>\n      <td>1.612915e+12</td>\n      <td>293.53937449</td>\n      <td>28750.0</td>\n      <td>1337441.40000000</td>\n      <td>142.31145139</td>\n      <td>0</td>\n      <td>OMGBTC</td>\n    </tr>\n    <tr>\n      <th>84</th>\n      <td>1.612915e+12</td>\n      <td>0.00011020</td>\n      <td>0.00012750</td>\n      <td>0.00010860</td>\n      <td>0.00012460</td>\n      <td>4266072.69000000</td>\n      <td>1.613002e+12</td>\n      <td>503.51593342</td>\n      <td>47339.0</td>\n      <td>2078812.96000000</td>\n      <td>245.71468026</td>\n      <td>0</td>\n      <td>OMGBTC</td>\n    </tr>\n    <tr>\n      <th>85</th>\n      <td>1.613002e+12</td>\n      <td>0.00012440</td>\n      <td>0.00013840</td>\n      <td>0.00012030</td>\n      <td>0.00012400</td>\n      <td>5044437.43000000</td>\n      <td>1.613088e+12</td>\n      <td>648.62957568</td>\n      <td>46941.0</td>\n      <td>2439064.40000000</td>\n      <td>314.28802912</td>\n      <td>0</td>\n      <td>OMGBTC</td>\n    </tr>\n  </tbody>\n</table>\n<p>86 rows × 13 columns</p>\n</div>"
     },
     "execution_count": 6,
     "metadata": {},
     "output_type": "execute_result"
    }
   ],
   "source": [
    "hist_df.drop_duplicates()"
   ],
   "metadata": {
    "collapsed": false,
    "pycharm": {
     "name": "#%%\n"
    }
   }
  },
  {
   "cell_type": "code",
   "execution_count": 11,
   "outputs": [
    {
     "name": "stdout",
     "output_type": "stream",
     "text": [
      "<class 'pandas.core.frame.DataFrame'>\n",
      "Int64Index: 86 entries, 0 to 85\n",
      "Data columns (total 13 columns):\n",
      " #   Column  Non-Null Count  Dtype  \n",
      "---  ------  --------------  -----  \n",
      " 0   0       86 non-null     float64\n",
      " 1   1       86 non-null     object \n",
      " 2   2       86 non-null     object \n",
      " 3   3       86 non-null     object \n",
      " 4   4       86 non-null     object \n",
      " 5   5       86 non-null     object \n",
      " 6   6       86 non-null     float64\n",
      " 7   7       86 non-null     object \n",
      " 8   8       86 non-null     float64\n",
      " 9   9       86 non-null     object \n",
      " 10  10      86 non-null     object \n",
      " 11  11      86 non-null     object \n",
      " 12  symbol  86 non-null     object \n",
      "dtypes: float64(3), object(10)\n",
      "memory usage: 59.9 KB\n"
     ]
    }
   ],
   "source": [
    "hist_df.info(memory_usage=\"deep\")\n"
   ],
   "metadata": {
    "collapsed": false,
    "pycharm": {
     "name": "#%%\n"
    }
   }
  },
  {
   "cell_type": "code",
   "execution_count": 12,
   "outputs": [
    {
     "data": {
      "text/plain": "     opentime        Open        High         Low       Close  \\\n0  2022-03-22  0.91700000  0.98800000  0.90700000  0.97500000   \n1  2022-03-23  0.97500000  1.11000000  0.95700000  1.10800000   \n2  2022-03-24  1.10800000  1.19000000  1.07600000  1.13100000   \n3  2022-03-25  1.13000000  1.16700000  1.07200000  1.09600000   \n4  2022-03-26  1.09600000  1.16000000  1.07900000  1.15200000   \n..        ...         ...         ...         ...         ...   \n81 2021-02-07  0.00012510  0.00012770  0.00011400  0.00011930   \n82 2021-02-08  0.00011940  0.00012770  0.00010210  0.00010490   \n83 2021-02-09  0.00010490  0.00011250  0.00010000  0.00011000   \n84 2021-02-10  0.00011020  0.00012750  0.00010860  0.00012460   \n85 2021-02-11  0.00012440  0.00013840  0.00012030  0.00012400   \n\n                Volume    Close time  Quote asset volume  Number of trades  \\\n0   172058469.40000000  1.647994e+12  164577626.02880000          280866.0   \n1   362447245.10000000  1.648080e+12  376836453.72380000          645078.0   \n2   390982460.00000000  1.648166e+12  445651286.52840000          702338.0   \n3   290456883.70000000  1.648253e+12  324802638.26710000          506738.0   \n4   143117986.10000000  1.648339e+12  161024339.18000000          271206.0   \n..                 ...           ...                 ...               ...   \n81    2325376.53000000  1.612742e+12        279.73482168           23680.0   \n82    3215604.10000000  1.612829e+12        368.74653082           31702.0   \n83    2758950.39000000  1.612915e+12        293.53937449           28750.0   \n84    4266072.69000000  1.613002e+12        503.51593342           47339.0   \n85    5044437.43000000  1.613088e+12        648.62957568           46941.0   \n\n   TB base asset volume TB quote asset volume Unused field, ignore   symbol  \n0     88354357.00000000     84498976.32020000                    0  ADAUSDT  \n1    189677928.70000000    197436607.68670000                    0  ADAUSDT  \n2    192422645.50000000    219300288.94500000                    0  ADAUSDT  \n3    140613667.10000000    157248129.85860000                    0  ADAUSDT  \n4     75325602.00000000     84777494.22780000                    0  ADAUSDT  \n..                  ...                   ...                  ...      ...  \n81     1075597.54000000          129.45485986                    0   OMGBTC  \n82     1470566.32000000          167.96128796                    0   OMGBTC  \n83     1337441.40000000          142.31145139                    0   OMGBTC  \n84     2078812.96000000          245.71468026                    0   OMGBTC  \n85     2439064.40000000          314.28802912                    0   OMGBTC  \n\n[86 rows x 13 columns]",
      "text/html": "<div>\n<style scoped>\n    .dataframe tbody tr th:only-of-type {\n        vertical-align: middle;\n    }\n\n    .dataframe tbody tr th {\n        vertical-align: top;\n    }\n\n    .dataframe thead th {\n        text-align: right;\n    }\n</style>\n<table border=\"1\" class=\"dataframe\">\n  <thead>\n    <tr style=\"text-align: right;\">\n      <th></th>\n      <th>opentime</th>\n      <th>Open</th>\n      <th>High</th>\n      <th>Low</th>\n      <th>Close</th>\n      <th>Volume</th>\n      <th>Close time</th>\n      <th>Quote asset volume</th>\n      <th>Number of trades</th>\n      <th>TB base asset volume</th>\n      <th>TB quote asset volume</th>\n      <th>Unused field, ignore</th>\n      <th>symbol</th>\n    </tr>\n  </thead>\n  <tbody>\n    <tr>\n      <th>0</th>\n      <td>2022-03-22</td>\n      <td>0.91700000</td>\n      <td>0.98800000</td>\n      <td>0.90700000</td>\n      <td>0.97500000</td>\n      <td>172058469.40000000</td>\n      <td>1.647994e+12</td>\n      <td>164577626.02880000</td>\n      <td>280866.0</td>\n      <td>88354357.00000000</td>\n      <td>84498976.32020000</td>\n      <td>0</td>\n      <td>ADAUSDT</td>\n    </tr>\n    <tr>\n      <th>1</th>\n      <td>2022-03-23</td>\n      <td>0.97500000</td>\n      <td>1.11000000</td>\n      <td>0.95700000</td>\n      <td>1.10800000</td>\n      <td>362447245.10000000</td>\n      <td>1.648080e+12</td>\n      <td>376836453.72380000</td>\n      <td>645078.0</td>\n      <td>189677928.70000000</td>\n      <td>197436607.68670000</td>\n      <td>0</td>\n      <td>ADAUSDT</td>\n    </tr>\n    <tr>\n      <th>2</th>\n      <td>2022-03-24</td>\n      <td>1.10800000</td>\n      <td>1.19000000</td>\n      <td>1.07600000</td>\n      <td>1.13100000</td>\n      <td>390982460.00000000</td>\n      <td>1.648166e+12</td>\n      <td>445651286.52840000</td>\n      <td>702338.0</td>\n      <td>192422645.50000000</td>\n      <td>219300288.94500000</td>\n      <td>0</td>\n      <td>ADAUSDT</td>\n    </tr>\n    <tr>\n      <th>3</th>\n      <td>2022-03-25</td>\n      <td>1.13000000</td>\n      <td>1.16700000</td>\n      <td>1.07200000</td>\n      <td>1.09600000</td>\n      <td>290456883.70000000</td>\n      <td>1.648253e+12</td>\n      <td>324802638.26710000</td>\n      <td>506738.0</td>\n      <td>140613667.10000000</td>\n      <td>157248129.85860000</td>\n      <td>0</td>\n      <td>ADAUSDT</td>\n    </tr>\n    <tr>\n      <th>4</th>\n      <td>2022-03-26</td>\n      <td>1.09600000</td>\n      <td>1.16000000</td>\n      <td>1.07900000</td>\n      <td>1.15200000</td>\n      <td>143117986.10000000</td>\n      <td>1.648339e+12</td>\n      <td>161024339.18000000</td>\n      <td>271206.0</td>\n      <td>75325602.00000000</td>\n      <td>84777494.22780000</td>\n      <td>0</td>\n      <td>ADAUSDT</td>\n    </tr>\n    <tr>\n      <th>...</th>\n      <td>...</td>\n      <td>...</td>\n      <td>...</td>\n      <td>...</td>\n      <td>...</td>\n      <td>...</td>\n      <td>...</td>\n      <td>...</td>\n      <td>...</td>\n      <td>...</td>\n      <td>...</td>\n      <td>...</td>\n      <td>...</td>\n    </tr>\n    <tr>\n      <th>81</th>\n      <td>2021-02-07</td>\n      <td>0.00012510</td>\n      <td>0.00012770</td>\n      <td>0.00011400</td>\n      <td>0.00011930</td>\n      <td>2325376.53000000</td>\n      <td>1.612742e+12</td>\n      <td>279.73482168</td>\n      <td>23680.0</td>\n      <td>1075597.54000000</td>\n      <td>129.45485986</td>\n      <td>0</td>\n      <td>OMGBTC</td>\n    </tr>\n    <tr>\n      <th>82</th>\n      <td>2021-02-08</td>\n      <td>0.00011940</td>\n      <td>0.00012770</td>\n      <td>0.00010210</td>\n      <td>0.00010490</td>\n      <td>3215604.10000000</td>\n      <td>1.612829e+12</td>\n      <td>368.74653082</td>\n      <td>31702.0</td>\n      <td>1470566.32000000</td>\n      <td>167.96128796</td>\n      <td>0</td>\n      <td>OMGBTC</td>\n    </tr>\n    <tr>\n      <th>83</th>\n      <td>2021-02-09</td>\n      <td>0.00010490</td>\n      <td>0.00011250</td>\n      <td>0.00010000</td>\n      <td>0.00011000</td>\n      <td>2758950.39000000</td>\n      <td>1.612915e+12</td>\n      <td>293.53937449</td>\n      <td>28750.0</td>\n      <td>1337441.40000000</td>\n      <td>142.31145139</td>\n      <td>0</td>\n      <td>OMGBTC</td>\n    </tr>\n    <tr>\n      <th>84</th>\n      <td>2021-02-10</td>\n      <td>0.00011020</td>\n      <td>0.00012750</td>\n      <td>0.00010860</td>\n      <td>0.00012460</td>\n      <td>4266072.69000000</td>\n      <td>1.613002e+12</td>\n      <td>503.51593342</td>\n      <td>47339.0</td>\n      <td>2078812.96000000</td>\n      <td>245.71468026</td>\n      <td>0</td>\n      <td>OMGBTC</td>\n    </tr>\n    <tr>\n      <th>85</th>\n      <td>2021-02-11</td>\n      <td>0.00012440</td>\n      <td>0.00013840</td>\n      <td>0.00012030</td>\n      <td>0.00012400</td>\n      <td>5044437.43000000</td>\n      <td>1.613088e+12</td>\n      <td>648.62957568</td>\n      <td>46941.0</td>\n      <td>2439064.40000000</td>\n      <td>314.28802912</td>\n      <td>0</td>\n      <td>OMGBTC</td>\n    </tr>\n  </tbody>\n</table>\n<p>86 rows × 13 columns</p>\n</div>"
     },
     "execution_count": 12,
     "metadata": {},
     "output_type": "execute_result"
    }
   ],
   "source": [
    "def process_data():\n",
    "    # rename columns\n",
    "    hist_df.columns = (['opentime',\n",
    "                        'Open',\n",
    "                        'High',\n",
    "                        'Low',\n",
    "                        'Close',\n",
    "                        'Volume',\n",
    "                        'Close time',\n",
    "                        'Quote asset volume',\n",
    "                        'Number of trades',\n",
    "                        'TB base asset volume',\n",
    "                        'TB quote asset volume',\n",
    "                        'Unused field, ignore',\n",
    "                        'symbol'])\n",
    "\n",
    "    # convert the open time to date\n",
    "    hist_df['opentime'] = pd.to_datetime(hist_df['opentime'] / 1000, unit='s')\n",
    "\n",
    "    # select the column to convert into numeric type\n",
    "    # to_numeric = ['Open', 'High', 'Low', 'Close']\n",
    "\n",
    "    # convert the object type to numerics\n",
    "    # hist_df[to_numeric] = hist_df[to_numeric].apply(pd.to_numeric, axis=1)\n",
    "\n",
    "\n",
    "process_data()\n",
    "hist_df"
   ],
   "metadata": {
    "collapsed": false,
    "pycharm": {
     "name": "#%%\n"
    }
   }
  },
  {
   "cell_type": "code",
   "execution_count": 9,
   "outputs": [
    {
     "name": "stdout",
     "output_type": "stream",
     "text": [
      "<class 'pandas.core.frame.DataFrame'>\n",
      "Int64Index: 86 entries, 0 to 85\n",
      "Data columns (total 6 columns):\n",
      " #   Column    Non-Null Count  Dtype         \n",
      "---  ------    --------------  -----         \n",
      " 0   opentime  86 non-null     datetime64[ns]\n",
      " 1   Open      86 non-null     object        \n",
      " 2   High      86 non-null     object        \n",
      " 3   Low       86 non-null     object        \n",
      " 4   Close     86 non-null     object        \n",
      " 5   symbol    86 non-null     object        \n",
      "dtypes: datetime64[ns](1), object(5)\n",
      "memory usage: 4.7+ KB\n"
     ]
    }
   ],
   "source": [
    "hist_df = hist_df.drop(columns=['Volume','Close time', 'Quote asset volume','Number of trades',\n",
    "                                'TB base asset volume', 'TB quote asset volume', 'Unused field, ignore'])\n",
    "hist_df.info()"
   ],
   "metadata": {
    "collapsed": false,
    "pycharm": {
     "name": "#%%\n"
    }
   }
  },
  {
   "cell_type": "code",
   "execution_count": 10,
   "outputs": [
    {
     "data": {
      "text/plain": "     opentime        Open        High         Low       Close   symbol\n0  2022-03-22  0.91700000  0.98800000  0.90700000  0.97500000  ADAUSDT\n1  2022-03-23  0.97500000  1.11000000  0.95700000  1.10800000  ADAUSDT\n2  2022-03-24  1.10800000  1.19000000  1.07600000  1.13100000  ADAUSDT\n3  2022-03-25  1.13000000  1.16700000  1.07200000  1.09600000  ADAUSDT\n4  2022-03-26  1.09600000  1.16000000  1.07900000  1.15200000  ADAUSDT\n..        ...         ...         ...         ...         ...      ...\n81 2021-02-07  0.00012510  0.00012770  0.00011400  0.00011930   OMGBTC\n82 2021-02-08  0.00011940  0.00012770  0.00010210  0.00010490   OMGBTC\n83 2021-02-09  0.00010490  0.00011250  0.00010000  0.00011000   OMGBTC\n84 2021-02-10  0.00011020  0.00012750  0.00010860  0.00012460   OMGBTC\n85 2021-02-11  0.00012440  0.00013840  0.00012030  0.00012400   OMGBTC\n\n[86 rows x 6 columns]",
      "text/html": "<div>\n<style scoped>\n    .dataframe tbody tr th:only-of-type {\n        vertical-align: middle;\n    }\n\n    .dataframe tbody tr th {\n        vertical-align: top;\n    }\n\n    .dataframe thead th {\n        text-align: right;\n    }\n</style>\n<table border=\"1\" class=\"dataframe\">\n  <thead>\n    <tr style=\"text-align: right;\">\n      <th></th>\n      <th>opentime</th>\n      <th>Open</th>\n      <th>High</th>\n      <th>Low</th>\n      <th>Close</th>\n      <th>symbol</th>\n    </tr>\n  </thead>\n  <tbody>\n    <tr>\n      <th>0</th>\n      <td>2022-03-22</td>\n      <td>0.91700000</td>\n      <td>0.98800000</td>\n      <td>0.90700000</td>\n      <td>0.97500000</td>\n      <td>ADAUSDT</td>\n    </tr>\n    <tr>\n      <th>1</th>\n      <td>2022-03-23</td>\n      <td>0.97500000</td>\n      <td>1.11000000</td>\n      <td>0.95700000</td>\n      <td>1.10800000</td>\n      <td>ADAUSDT</td>\n    </tr>\n    <tr>\n      <th>2</th>\n      <td>2022-03-24</td>\n      <td>1.10800000</td>\n      <td>1.19000000</td>\n      <td>1.07600000</td>\n      <td>1.13100000</td>\n      <td>ADAUSDT</td>\n    </tr>\n    <tr>\n      <th>3</th>\n      <td>2022-03-25</td>\n      <td>1.13000000</td>\n      <td>1.16700000</td>\n      <td>1.07200000</td>\n      <td>1.09600000</td>\n      <td>ADAUSDT</td>\n    </tr>\n    <tr>\n      <th>4</th>\n      <td>2022-03-26</td>\n      <td>1.09600000</td>\n      <td>1.16000000</td>\n      <td>1.07900000</td>\n      <td>1.15200000</td>\n      <td>ADAUSDT</td>\n    </tr>\n    <tr>\n      <th>...</th>\n      <td>...</td>\n      <td>...</td>\n      <td>...</td>\n      <td>...</td>\n      <td>...</td>\n      <td>...</td>\n    </tr>\n    <tr>\n      <th>81</th>\n      <td>2021-02-07</td>\n      <td>0.00012510</td>\n      <td>0.00012770</td>\n      <td>0.00011400</td>\n      <td>0.00011930</td>\n      <td>OMGBTC</td>\n    </tr>\n    <tr>\n      <th>82</th>\n      <td>2021-02-08</td>\n      <td>0.00011940</td>\n      <td>0.00012770</td>\n      <td>0.00010210</td>\n      <td>0.00010490</td>\n      <td>OMGBTC</td>\n    </tr>\n    <tr>\n      <th>83</th>\n      <td>2021-02-09</td>\n      <td>0.00010490</td>\n      <td>0.00011250</td>\n      <td>0.00010000</td>\n      <td>0.00011000</td>\n      <td>OMGBTC</td>\n    </tr>\n    <tr>\n      <th>84</th>\n      <td>2021-02-10</td>\n      <td>0.00011020</td>\n      <td>0.00012750</td>\n      <td>0.00010860</td>\n      <td>0.00012460</td>\n      <td>OMGBTC</td>\n    </tr>\n    <tr>\n      <th>85</th>\n      <td>2021-02-11</td>\n      <td>0.00012440</td>\n      <td>0.00013840</td>\n      <td>0.00012030</td>\n      <td>0.00012400</td>\n      <td>OMGBTC</td>\n    </tr>\n  </tbody>\n</table>\n<p>86 rows × 6 columns</p>\n</div>"
     },
     "execution_count": 10,
     "metadata": {},
     "output_type": "execute_result"
    }
   ],
   "source": [
    "hist_df"
   ],
   "metadata": {
    "collapsed": false,
    "pycharm": {
     "name": "#%%\n"
    }
   }
  },
  {
   "cell_type": "code",
   "execution_count": 11,
   "outputs": [
    {
     "name": "stdout",
     "output_type": "stream",
     "text": [
      "<class 'pandas.core.frame.DataFrame'>\n",
      "RangeIndex: 50 entries, 0 to 49\n",
      "Data columns (total 10 columns):\n",
      " #   Column     Non-Null Count  Dtype         \n",
      "---  ------     --------------  -----         \n",
      " 0   coin       50 non-null     object        \n",
      " 1   date       50 non-null     datetime64[ns]\n",
      " 2   Yesterday  50 non-null     datetime64[ns]\n",
      " 3   day 1      50 non-null     datetime64[ns]\n",
      " 4   day 2      50 non-null     datetime64[ns]\n",
      " 5   day 3      50 non-null     datetime64[ns]\n",
      " 6   day 4      50 non-null     datetime64[ns]\n",
      " 7   day 5      50 non-null     datetime64[ns]\n",
      " 8   day 6      50 non-null     datetime64[ns]\n",
      " 9   day 7      50 non-null     datetime64[ns]\n",
      "dtypes: datetime64[ns](9), object(1)\n",
      "memory usage: 4.0+ KB\n"
     ]
    },
    {
     "data": {
      "text/plain": "         coin       date  Yesterday      day 1      day 2      day 3  \\\n0     ADAUSDT 2022-03-23 2022-03-22 2022-03-24 2022-03-25 2022-03-26   \n1     ADAUSDT 2022-03-25 2022-03-24 2022-03-26 2022-03-27 2022-03-28   \n2     ETHUSDT 2021-08-11 2021-08-10 2021-08-12 2021-08-13 2021-08-14   \n3     ETHUSDT 2021-08-14 2021-08-13 2021-08-15 2021-08-16 2021-08-17   \n4     BTCUSDT 2021-08-08 2021-08-07 2021-08-09 2021-08-10 2021-08-11   \n5      HSRBTC 2021-02-04 2021-02-03 2021-02-05 2021-02-06 2021-02-07   \n6      OAXETH 2022-06-02 2022-06-01 2022-06-03 2022-06-04 2022-06-05   \n7      DNTETH 2021-06-07 2021-06-06 2021-06-08 2021-06-09 2021-06-10   \n8      MCOETH 2022-03-23 2022-03-22 2022-03-24 2022-03-25 2022-03-26   \n9      ICNETH 2021-08-08 2021-08-07 2021-08-09 2021-08-10 2021-08-11   \n10     MCOBTC 2021-08-08 2021-08-07 2021-08-09 2021-08-10 2021-08-11   \n11     WTCBTC 2021-02-04 2021-02-03 2021-02-05 2021-02-06 2021-02-07   \n12     WTCETH 2022-06-02 2022-06-01 2022-06-03 2022-06-04 2022-06-05   \n13     LRCBTC 2021-06-07 2021-06-06 2021-06-08 2021-06-09 2021-06-10   \n14     LRCETH 2022-03-23 2022-03-22 2022-03-24 2022-03-25 2022-03-26   \n15    QTUMBTC 2021-08-08 2021-08-07 2021-08-09 2021-08-10 2021-08-11   \n16    YOYOBTC 2021-08-08 2021-08-07 2021-08-09 2021-08-10 2021-08-11   \n17     OMGBTC 2021-02-04 2021-02-03 2021-02-05 2021-02-06 2021-02-07   \n18     SNXETH 2022-06-02 2022-06-01 2022-06-03 2022-06-04 2022-06-05   \n19   WBTCBUSD 2021-06-07 2021-06-06 2021-06-08 2021-06-09 2021-06-10   \n20     BELETH 2022-03-23 2022-03-22 2022-03-24 2022-03-25 2022-03-26   \n21     LITETH 2021-08-08 2021-08-07 2021-08-09 2021-08-10 2021-08-11   \n22  LEVERUSDT 2021-08-08 2021-08-07 2021-08-09 2021-08-10 2021-08-11   \n23  LEVERBUSD 2021-02-04 2021-02-03 2021-02-05 2021-02-06 2021-02-07   \n24  BURGERETH 2022-06-02 2022-06-01 2022-06-03 2022-06-04 2022-06-05   \n25  PEOPLEETH 2021-06-07 2021-06-06 2021-06-08 2021-06-09 2021-06-10   \n26    UNFIETH 2022-03-23 2022-03-22 2022-03-24 2022-03-25 2022-03-26   \n27    BONDETH 2021-08-08 2021-08-07 2021-08-09 2021-08-10 2021-08-11   \n28   STORJTRY 2021-08-08 2021-08-07 2021-08-09 2021-08-10 2021-08-11   \n29      OPETH 2022-06-02 2022-06-01 2022-06-03 2022-06-04 2022-06-05   \n30     ETCTRY 2021-06-07 2021-06-06 2021-06-08 2021-06-09 2021-06-10   \n31    WINGETH 2022-03-23 2022-03-22 2022-03-24 2022-03-25 2022-03-26   \n32     FILETH 2021-08-08 2021-08-07 2021-08-09 2021-08-10 2021-08-11   \n33    GLMBUSD 2021-08-08 2021-08-07 2021-08-09 2021-08-10 2021-08-11   \n34    SSVBUSD 2021-02-04 2021-02-03 2021-02-05 2021-02-06 2021-02-07   \n35     STGBTC 2022-06-02 2022-06-01 2022-06-03 2022-06-04 2022-06-05   \n36    STGBUSD 2021-06-07 2021-06-06 2021-06-08 2021-06-09 2021-06-10   \n37    STGUSDT 2022-03-23 2022-03-22 2022-03-24 2022-03-25 2022-03-26   \n38    ANKRTRY 2021-08-08 2021-08-07 2021-08-09 2021-08-10 2021-08-11   \n39    ARKBUSD 2021-08-08 2021-08-07 2021-08-09 2021-08-10 2021-08-11   \n40   BETHBUSD 2021-02-04 2021-02-03 2021-02-05 2021-02-06 2021-02-07   \n41   LOOMBUSD 2022-06-02 2022-06-01 2022-06-03 2022-06-04 2022-06-05   \n42    SNMBUSD 2021-06-07 2021-06-06 2021-06-08 2021-06-09 2021-06-10   \n43    AMBBUSD 2022-03-23 2022-03-22 2022-03-24 2022-03-25 2022-03-26   \n44   LUNCUSDT 2021-08-08 2021-08-07 2021-08-09 2021-08-10 2021-08-11   \n45    PHBBUSD 2021-08-08 2021-08-07 2021-08-09 2021-08-10 2021-08-11   \n46    GASBUSD 2021-02-04 2021-02-03 2021-02-05 2021-02-06 2021-02-07   \n47   NEBLBUSD 2022-06-02 2022-06-01 2022-06-03 2022-06-04 2022-06-05   \n48   PROSBUSD 2021-06-07 2021-06-06 2021-06-08 2021-06-09 2021-06-10   \n49    VIBBUSD 2022-03-23 2022-03-22 2022-03-24 2022-03-25 2022-03-26   \n\n        day 4      day 5      day 6      day 7  \n0  2022-03-27 2022-03-28 2022-03-29 2022-03-30  \n1  2022-03-29 2022-03-30 2022-03-31 2022-04-01  \n2  2021-08-15 2021-08-16 2021-08-17 2021-08-18  \n3  2021-08-18 2021-08-19 2021-08-20 2021-08-21  \n4  2021-08-12 2021-08-13 2021-08-14 2021-08-15  \n5  2021-02-08 2021-02-09 2021-02-10 2021-02-11  \n6  2022-06-06 2022-06-07 2022-06-08 2022-06-09  \n7  2021-06-11 2021-06-12 2021-06-13 2021-06-14  \n8  2022-03-27 2022-03-28 2022-03-29 2022-03-30  \n9  2021-08-12 2021-08-13 2021-08-14 2021-08-15  \n10 2021-08-12 2021-08-13 2021-08-14 2021-08-15  \n11 2021-02-08 2021-02-09 2021-02-10 2021-02-11  \n12 2022-06-06 2022-06-07 2022-06-08 2022-06-09  \n13 2021-06-11 2021-06-12 2021-06-13 2021-06-14  \n14 2022-03-27 2022-03-28 2022-03-29 2022-03-30  \n15 2021-08-12 2021-08-13 2021-08-14 2021-08-15  \n16 2021-08-12 2021-08-13 2021-08-14 2021-08-15  \n17 2021-02-08 2021-02-09 2021-02-10 2021-02-11  \n18 2022-06-06 2022-06-07 2022-06-08 2022-06-09  \n19 2021-06-11 2021-06-12 2021-06-13 2021-06-14  \n20 2022-03-27 2022-03-28 2022-03-29 2022-03-30  \n21 2021-08-12 2021-08-13 2021-08-14 2021-08-15  \n22 2021-08-12 2021-08-13 2021-08-14 2021-08-15  \n23 2021-02-08 2021-02-09 2021-02-10 2021-02-11  \n24 2022-06-06 2022-06-07 2022-06-08 2022-06-09  \n25 2021-06-11 2021-06-12 2021-06-13 2021-06-14  \n26 2022-03-27 2022-03-28 2022-03-29 2022-03-30  \n27 2021-08-12 2021-08-13 2021-08-14 2021-08-15  \n28 2021-08-12 2021-08-13 2021-08-14 2021-08-15  \n29 2022-06-06 2022-06-07 2022-06-08 2022-06-09  \n30 2021-06-11 2021-06-12 2021-06-13 2021-06-14  \n31 2022-03-27 2022-03-28 2022-03-29 2022-03-30  \n32 2021-08-12 2021-08-13 2021-08-14 2021-08-15  \n33 2021-08-12 2021-08-13 2021-08-14 2021-08-15  \n34 2021-02-08 2021-02-09 2021-02-10 2021-02-11  \n35 2022-06-06 2022-06-07 2022-06-08 2022-06-09  \n36 2021-06-11 2021-06-12 2021-06-13 2021-06-14  \n37 2022-03-27 2022-03-28 2022-03-29 2022-03-30  \n38 2021-08-12 2021-08-13 2021-08-14 2021-08-15  \n39 2021-08-12 2021-08-13 2021-08-14 2021-08-15  \n40 2021-02-08 2021-02-09 2021-02-10 2021-02-11  \n41 2022-06-06 2022-06-07 2022-06-08 2022-06-09  \n42 2021-06-11 2021-06-12 2021-06-13 2021-06-14  \n43 2022-03-27 2022-03-28 2022-03-29 2022-03-30  \n44 2021-08-12 2021-08-13 2021-08-14 2021-08-15  \n45 2021-08-12 2021-08-13 2021-08-14 2021-08-15  \n46 2021-02-08 2021-02-09 2021-02-10 2021-02-11  \n47 2022-06-06 2022-06-07 2022-06-08 2022-06-09  \n48 2021-06-11 2021-06-12 2021-06-13 2021-06-14  \n49 2022-03-27 2022-03-28 2022-03-29 2022-03-30  ",
      "text/html": "<div>\n<style scoped>\n    .dataframe tbody tr th:only-of-type {\n        vertical-align: middle;\n    }\n\n    .dataframe tbody tr th {\n        vertical-align: top;\n    }\n\n    .dataframe thead th {\n        text-align: right;\n    }\n</style>\n<table border=\"1\" class=\"dataframe\">\n  <thead>\n    <tr style=\"text-align: right;\">\n      <th></th>\n      <th>coin</th>\n      <th>date</th>\n      <th>Yesterday</th>\n      <th>day 1</th>\n      <th>day 2</th>\n      <th>day 3</th>\n      <th>day 4</th>\n      <th>day 5</th>\n      <th>day 6</th>\n      <th>day 7</th>\n    </tr>\n  </thead>\n  <tbody>\n    <tr>\n      <th>0</th>\n      <td>ADAUSDT</td>\n      <td>2022-03-23</td>\n      <td>2022-03-22</td>\n      <td>2022-03-24</td>\n      <td>2022-03-25</td>\n      <td>2022-03-26</td>\n      <td>2022-03-27</td>\n      <td>2022-03-28</td>\n      <td>2022-03-29</td>\n      <td>2022-03-30</td>\n    </tr>\n    <tr>\n      <th>1</th>\n      <td>ADAUSDT</td>\n      <td>2022-03-25</td>\n      <td>2022-03-24</td>\n      <td>2022-03-26</td>\n      <td>2022-03-27</td>\n      <td>2022-03-28</td>\n      <td>2022-03-29</td>\n      <td>2022-03-30</td>\n      <td>2022-03-31</td>\n      <td>2022-04-01</td>\n    </tr>\n    <tr>\n      <th>2</th>\n      <td>ETHUSDT</td>\n      <td>2021-08-11</td>\n      <td>2021-08-10</td>\n      <td>2021-08-12</td>\n      <td>2021-08-13</td>\n      <td>2021-08-14</td>\n      <td>2021-08-15</td>\n      <td>2021-08-16</td>\n      <td>2021-08-17</td>\n      <td>2021-08-18</td>\n    </tr>\n    <tr>\n      <th>3</th>\n      <td>ETHUSDT</td>\n      <td>2021-08-14</td>\n      <td>2021-08-13</td>\n      <td>2021-08-15</td>\n      <td>2021-08-16</td>\n      <td>2021-08-17</td>\n      <td>2021-08-18</td>\n      <td>2021-08-19</td>\n      <td>2021-08-20</td>\n      <td>2021-08-21</td>\n    </tr>\n    <tr>\n      <th>4</th>\n      <td>BTCUSDT</td>\n      <td>2021-08-08</td>\n      <td>2021-08-07</td>\n      <td>2021-08-09</td>\n      <td>2021-08-10</td>\n      <td>2021-08-11</td>\n      <td>2021-08-12</td>\n      <td>2021-08-13</td>\n      <td>2021-08-14</td>\n      <td>2021-08-15</td>\n    </tr>\n    <tr>\n      <th>5</th>\n      <td>HSRBTC</td>\n      <td>2021-02-04</td>\n      <td>2021-02-03</td>\n      <td>2021-02-05</td>\n      <td>2021-02-06</td>\n      <td>2021-02-07</td>\n      <td>2021-02-08</td>\n      <td>2021-02-09</td>\n      <td>2021-02-10</td>\n      <td>2021-02-11</td>\n    </tr>\n    <tr>\n      <th>6</th>\n      <td>OAXETH</td>\n      <td>2022-06-02</td>\n      <td>2022-06-01</td>\n      <td>2022-06-03</td>\n      <td>2022-06-04</td>\n      <td>2022-06-05</td>\n      <td>2022-06-06</td>\n      <td>2022-06-07</td>\n      <td>2022-06-08</td>\n      <td>2022-06-09</td>\n    </tr>\n    <tr>\n      <th>7</th>\n      <td>DNTETH</td>\n      <td>2021-06-07</td>\n      <td>2021-06-06</td>\n      <td>2021-06-08</td>\n      <td>2021-06-09</td>\n      <td>2021-06-10</td>\n      <td>2021-06-11</td>\n      <td>2021-06-12</td>\n      <td>2021-06-13</td>\n      <td>2021-06-14</td>\n    </tr>\n    <tr>\n      <th>8</th>\n      <td>MCOETH</td>\n      <td>2022-03-23</td>\n      <td>2022-03-22</td>\n      <td>2022-03-24</td>\n      <td>2022-03-25</td>\n      <td>2022-03-26</td>\n      <td>2022-03-27</td>\n      <td>2022-03-28</td>\n      <td>2022-03-29</td>\n      <td>2022-03-30</td>\n    </tr>\n    <tr>\n      <th>9</th>\n      <td>ICNETH</td>\n      <td>2021-08-08</td>\n      <td>2021-08-07</td>\n      <td>2021-08-09</td>\n      <td>2021-08-10</td>\n      <td>2021-08-11</td>\n      <td>2021-08-12</td>\n      <td>2021-08-13</td>\n      <td>2021-08-14</td>\n      <td>2021-08-15</td>\n    </tr>\n    <tr>\n      <th>10</th>\n      <td>MCOBTC</td>\n      <td>2021-08-08</td>\n      <td>2021-08-07</td>\n      <td>2021-08-09</td>\n      <td>2021-08-10</td>\n      <td>2021-08-11</td>\n      <td>2021-08-12</td>\n      <td>2021-08-13</td>\n      <td>2021-08-14</td>\n      <td>2021-08-15</td>\n    </tr>\n    <tr>\n      <th>11</th>\n      <td>WTCBTC</td>\n      <td>2021-02-04</td>\n      <td>2021-02-03</td>\n      <td>2021-02-05</td>\n      <td>2021-02-06</td>\n      <td>2021-02-07</td>\n      <td>2021-02-08</td>\n      <td>2021-02-09</td>\n      <td>2021-02-10</td>\n      <td>2021-02-11</td>\n    </tr>\n    <tr>\n      <th>12</th>\n      <td>WTCETH</td>\n      <td>2022-06-02</td>\n      <td>2022-06-01</td>\n      <td>2022-06-03</td>\n      <td>2022-06-04</td>\n      <td>2022-06-05</td>\n      <td>2022-06-06</td>\n      <td>2022-06-07</td>\n      <td>2022-06-08</td>\n      <td>2022-06-09</td>\n    </tr>\n    <tr>\n      <th>13</th>\n      <td>LRCBTC</td>\n      <td>2021-06-07</td>\n      <td>2021-06-06</td>\n      <td>2021-06-08</td>\n      <td>2021-06-09</td>\n      <td>2021-06-10</td>\n      <td>2021-06-11</td>\n      <td>2021-06-12</td>\n      <td>2021-06-13</td>\n      <td>2021-06-14</td>\n    </tr>\n    <tr>\n      <th>14</th>\n      <td>LRCETH</td>\n      <td>2022-03-23</td>\n      <td>2022-03-22</td>\n      <td>2022-03-24</td>\n      <td>2022-03-25</td>\n      <td>2022-03-26</td>\n      <td>2022-03-27</td>\n      <td>2022-03-28</td>\n      <td>2022-03-29</td>\n      <td>2022-03-30</td>\n    </tr>\n    <tr>\n      <th>15</th>\n      <td>QTUMBTC</td>\n      <td>2021-08-08</td>\n      <td>2021-08-07</td>\n      <td>2021-08-09</td>\n      <td>2021-08-10</td>\n      <td>2021-08-11</td>\n      <td>2021-08-12</td>\n      <td>2021-08-13</td>\n      <td>2021-08-14</td>\n      <td>2021-08-15</td>\n    </tr>\n    <tr>\n      <th>16</th>\n      <td>YOYOBTC</td>\n      <td>2021-08-08</td>\n      <td>2021-08-07</td>\n      <td>2021-08-09</td>\n      <td>2021-08-10</td>\n      <td>2021-08-11</td>\n      <td>2021-08-12</td>\n      <td>2021-08-13</td>\n      <td>2021-08-14</td>\n      <td>2021-08-15</td>\n    </tr>\n    <tr>\n      <th>17</th>\n      <td>OMGBTC</td>\n      <td>2021-02-04</td>\n      <td>2021-02-03</td>\n      <td>2021-02-05</td>\n      <td>2021-02-06</td>\n      <td>2021-02-07</td>\n      <td>2021-02-08</td>\n      <td>2021-02-09</td>\n      <td>2021-02-10</td>\n      <td>2021-02-11</td>\n    </tr>\n    <tr>\n      <th>18</th>\n      <td>SNXETH</td>\n      <td>2022-06-02</td>\n      <td>2022-06-01</td>\n      <td>2022-06-03</td>\n      <td>2022-06-04</td>\n      <td>2022-06-05</td>\n      <td>2022-06-06</td>\n      <td>2022-06-07</td>\n      <td>2022-06-08</td>\n      <td>2022-06-09</td>\n    </tr>\n    <tr>\n      <th>19</th>\n      <td>WBTCBUSD</td>\n      <td>2021-06-07</td>\n      <td>2021-06-06</td>\n      <td>2021-06-08</td>\n      <td>2021-06-09</td>\n      <td>2021-06-10</td>\n      <td>2021-06-11</td>\n      <td>2021-06-12</td>\n      <td>2021-06-13</td>\n      <td>2021-06-14</td>\n    </tr>\n    <tr>\n      <th>20</th>\n      <td>BELETH</td>\n      <td>2022-03-23</td>\n      <td>2022-03-22</td>\n      <td>2022-03-24</td>\n      <td>2022-03-25</td>\n      <td>2022-03-26</td>\n      <td>2022-03-27</td>\n      <td>2022-03-28</td>\n      <td>2022-03-29</td>\n      <td>2022-03-30</td>\n    </tr>\n    <tr>\n      <th>21</th>\n      <td>LITETH</td>\n      <td>2021-08-08</td>\n      <td>2021-08-07</td>\n      <td>2021-08-09</td>\n      <td>2021-08-10</td>\n      <td>2021-08-11</td>\n      <td>2021-08-12</td>\n      <td>2021-08-13</td>\n      <td>2021-08-14</td>\n      <td>2021-08-15</td>\n    </tr>\n    <tr>\n      <th>22</th>\n      <td>LEVERUSDT</td>\n      <td>2021-08-08</td>\n      <td>2021-08-07</td>\n      <td>2021-08-09</td>\n      <td>2021-08-10</td>\n      <td>2021-08-11</td>\n      <td>2021-08-12</td>\n      <td>2021-08-13</td>\n      <td>2021-08-14</td>\n      <td>2021-08-15</td>\n    </tr>\n    <tr>\n      <th>23</th>\n      <td>LEVERBUSD</td>\n      <td>2021-02-04</td>\n      <td>2021-02-03</td>\n      <td>2021-02-05</td>\n      <td>2021-02-06</td>\n      <td>2021-02-07</td>\n      <td>2021-02-08</td>\n      <td>2021-02-09</td>\n      <td>2021-02-10</td>\n      <td>2021-02-11</td>\n    </tr>\n    <tr>\n      <th>24</th>\n      <td>BURGERETH</td>\n      <td>2022-06-02</td>\n      <td>2022-06-01</td>\n      <td>2022-06-03</td>\n      <td>2022-06-04</td>\n      <td>2022-06-05</td>\n      <td>2022-06-06</td>\n      <td>2022-06-07</td>\n      <td>2022-06-08</td>\n      <td>2022-06-09</td>\n    </tr>\n    <tr>\n      <th>25</th>\n      <td>PEOPLEETH</td>\n      <td>2021-06-07</td>\n      <td>2021-06-06</td>\n      <td>2021-06-08</td>\n      <td>2021-06-09</td>\n      <td>2021-06-10</td>\n      <td>2021-06-11</td>\n      <td>2021-06-12</td>\n      <td>2021-06-13</td>\n      <td>2021-06-14</td>\n    </tr>\n    <tr>\n      <th>26</th>\n      <td>UNFIETH</td>\n      <td>2022-03-23</td>\n      <td>2022-03-22</td>\n      <td>2022-03-24</td>\n      <td>2022-03-25</td>\n      <td>2022-03-26</td>\n      <td>2022-03-27</td>\n      <td>2022-03-28</td>\n      <td>2022-03-29</td>\n      <td>2022-03-30</td>\n    </tr>\n    <tr>\n      <th>27</th>\n      <td>BONDETH</td>\n      <td>2021-08-08</td>\n      <td>2021-08-07</td>\n      <td>2021-08-09</td>\n      <td>2021-08-10</td>\n      <td>2021-08-11</td>\n      <td>2021-08-12</td>\n      <td>2021-08-13</td>\n      <td>2021-08-14</td>\n      <td>2021-08-15</td>\n    </tr>\n    <tr>\n      <th>28</th>\n      <td>STORJTRY</td>\n      <td>2021-08-08</td>\n      <td>2021-08-07</td>\n      <td>2021-08-09</td>\n      <td>2021-08-10</td>\n      <td>2021-08-11</td>\n      <td>2021-08-12</td>\n      <td>2021-08-13</td>\n      <td>2021-08-14</td>\n      <td>2021-08-15</td>\n    </tr>\n    <tr>\n      <th>29</th>\n      <td>OPETH</td>\n      <td>2022-06-02</td>\n      <td>2022-06-01</td>\n      <td>2022-06-03</td>\n      <td>2022-06-04</td>\n      <td>2022-06-05</td>\n      <td>2022-06-06</td>\n      <td>2022-06-07</td>\n      <td>2022-06-08</td>\n      <td>2022-06-09</td>\n    </tr>\n    <tr>\n      <th>30</th>\n      <td>ETCTRY</td>\n      <td>2021-06-07</td>\n      <td>2021-06-06</td>\n      <td>2021-06-08</td>\n      <td>2021-06-09</td>\n      <td>2021-06-10</td>\n      <td>2021-06-11</td>\n      <td>2021-06-12</td>\n      <td>2021-06-13</td>\n      <td>2021-06-14</td>\n    </tr>\n    <tr>\n      <th>31</th>\n      <td>WINGETH</td>\n      <td>2022-03-23</td>\n      <td>2022-03-22</td>\n      <td>2022-03-24</td>\n      <td>2022-03-25</td>\n      <td>2022-03-26</td>\n      <td>2022-03-27</td>\n      <td>2022-03-28</td>\n      <td>2022-03-29</td>\n      <td>2022-03-30</td>\n    </tr>\n    <tr>\n      <th>32</th>\n      <td>FILETH</td>\n      <td>2021-08-08</td>\n      <td>2021-08-07</td>\n      <td>2021-08-09</td>\n      <td>2021-08-10</td>\n      <td>2021-08-11</td>\n      <td>2021-08-12</td>\n      <td>2021-08-13</td>\n      <td>2021-08-14</td>\n      <td>2021-08-15</td>\n    </tr>\n    <tr>\n      <th>33</th>\n      <td>GLMBUSD</td>\n      <td>2021-08-08</td>\n      <td>2021-08-07</td>\n      <td>2021-08-09</td>\n      <td>2021-08-10</td>\n      <td>2021-08-11</td>\n      <td>2021-08-12</td>\n      <td>2021-08-13</td>\n      <td>2021-08-14</td>\n      <td>2021-08-15</td>\n    </tr>\n    <tr>\n      <th>34</th>\n      <td>SSVBUSD</td>\n      <td>2021-02-04</td>\n      <td>2021-02-03</td>\n      <td>2021-02-05</td>\n      <td>2021-02-06</td>\n      <td>2021-02-07</td>\n      <td>2021-02-08</td>\n      <td>2021-02-09</td>\n      <td>2021-02-10</td>\n      <td>2021-02-11</td>\n    </tr>\n    <tr>\n      <th>35</th>\n      <td>STGBTC</td>\n      <td>2022-06-02</td>\n      <td>2022-06-01</td>\n      <td>2022-06-03</td>\n      <td>2022-06-04</td>\n      <td>2022-06-05</td>\n      <td>2022-06-06</td>\n      <td>2022-06-07</td>\n      <td>2022-06-08</td>\n      <td>2022-06-09</td>\n    </tr>\n    <tr>\n      <th>36</th>\n      <td>STGBUSD</td>\n      <td>2021-06-07</td>\n      <td>2021-06-06</td>\n      <td>2021-06-08</td>\n      <td>2021-06-09</td>\n      <td>2021-06-10</td>\n      <td>2021-06-11</td>\n      <td>2021-06-12</td>\n      <td>2021-06-13</td>\n      <td>2021-06-14</td>\n    </tr>\n    <tr>\n      <th>37</th>\n      <td>STGUSDT</td>\n      <td>2022-03-23</td>\n      <td>2022-03-22</td>\n      <td>2022-03-24</td>\n      <td>2022-03-25</td>\n      <td>2022-03-26</td>\n      <td>2022-03-27</td>\n      <td>2022-03-28</td>\n      <td>2022-03-29</td>\n      <td>2022-03-30</td>\n    </tr>\n    <tr>\n      <th>38</th>\n      <td>ANKRTRY</td>\n      <td>2021-08-08</td>\n      <td>2021-08-07</td>\n      <td>2021-08-09</td>\n      <td>2021-08-10</td>\n      <td>2021-08-11</td>\n      <td>2021-08-12</td>\n      <td>2021-08-13</td>\n      <td>2021-08-14</td>\n      <td>2021-08-15</td>\n    </tr>\n    <tr>\n      <th>39</th>\n      <td>ARKBUSD</td>\n      <td>2021-08-08</td>\n      <td>2021-08-07</td>\n      <td>2021-08-09</td>\n      <td>2021-08-10</td>\n      <td>2021-08-11</td>\n      <td>2021-08-12</td>\n      <td>2021-08-13</td>\n      <td>2021-08-14</td>\n      <td>2021-08-15</td>\n    </tr>\n    <tr>\n      <th>40</th>\n      <td>BETHBUSD</td>\n      <td>2021-02-04</td>\n      <td>2021-02-03</td>\n      <td>2021-02-05</td>\n      <td>2021-02-06</td>\n      <td>2021-02-07</td>\n      <td>2021-02-08</td>\n      <td>2021-02-09</td>\n      <td>2021-02-10</td>\n      <td>2021-02-11</td>\n    </tr>\n    <tr>\n      <th>41</th>\n      <td>LOOMBUSD</td>\n      <td>2022-06-02</td>\n      <td>2022-06-01</td>\n      <td>2022-06-03</td>\n      <td>2022-06-04</td>\n      <td>2022-06-05</td>\n      <td>2022-06-06</td>\n      <td>2022-06-07</td>\n      <td>2022-06-08</td>\n      <td>2022-06-09</td>\n    </tr>\n    <tr>\n      <th>42</th>\n      <td>SNMBUSD</td>\n      <td>2021-06-07</td>\n      <td>2021-06-06</td>\n      <td>2021-06-08</td>\n      <td>2021-06-09</td>\n      <td>2021-06-10</td>\n      <td>2021-06-11</td>\n      <td>2021-06-12</td>\n      <td>2021-06-13</td>\n      <td>2021-06-14</td>\n    </tr>\n    <tr>\n      <th>43</th>\n      <td>AMBBUSD</td>\n      <td>2022-03-23</td>\n      <td>2022-03-22</td>\n      <td>2022-03-24</td>\n      <td>2022-03-25</td>\n      <td>2022-03-26</td>\n      <td>2022-03-27</td>\n      <td>2022-03-28</td>\n      <td>2022-03-29</td>\n      <td>2022-03-30</td>\n    </tr>\n    <tr>\n      <th>44</th>\n      <td>LUNCUSDT</td>\n      <td>2021-08-08</td>\n      <td>2021-08-07</td>\n      <td>2021-08-09</td>\n      <td>2021-08-10</td>\n      <td>2021-08-11</td>\n      <td>2021-08-12</td>\n      <td>2021-08-13</td>\n      <td>2021-08-14</td>\n      <td>2021-08-15</td>\n    </tr>\n    <tr>\n      <th>45</th>\n      <td>PHBBUSD</td>\n      <td>2021-08-08</td>\n      <td>2021-08-07</td>\n      <td>2021-08-09</td>\n      <td>2021-08-10</td>\n      <td>2021-08-11</td>\n      <td>2021-08-12</td>\n      <td>2021-08-13</td>\n      <td>2021-08-14</td>\n      <td>2021-08-15</td>\n    </tr>\n    <tr>\n      <th>46</th>\n      <td>GASBUSD</td>\n      <td>2021-02-04</td>\n      <td>2021-02-03</td>\n      <td>2021-02-05</td>\n      <td>2021-02-06</td>\n      <td>2021-02-07</td>\n      <td>2021-02-08</td>\n      <td>2021-02-09</td>\n      <td>2021-02-10</td>\n      <td>2021-02-11</td>\n    </tr>\n    <tr>\n      <th>47</th>\n      <td>NEBLBUSD</td>\n      <td>2022-06-02</td>\n      <td>2022-06-01</td>\n      <td>2022-06-03</td>\n      <td>2022-06-04</td>\n      <td>2022-06-05</td>\n      <td>2022-06-06</td>\n      <td>2022-06-07</td>\n      <td>2022-06-08</td>\n      <td>2022-06-09</td>\n    </tr>\n    <tr>\n      <th>48</th>\n      <td>PROSBUSD</td>\n      <td>2021-06-07</td>\n      <td>2021-06-06</td>\n      <td>2021-06-08</td>\n      <td>2021-06-09</td>\n      <td>2021-06-10</td>\n      <td>2021-06-11</td>\n      <td>2021-06-12</td>\n      <td>2021-06-13</td>\n      <td>2021-06-14</td>\n    </tr>\n    <tr>\n      <th>49</th>\n      <td>VIBBUSD</td>\n      <td>2022-03-23</td>\n      <td>2022-03-22</td>\n      <td>2022-03-24</td>\n      <td>2022-03-25</td>\n      <td>2022-03-26</td>\n      <td>2022-03-27</td>\n      <td>2022-03-28</td>\n      <td>2022-03-29</td>\n      <td>2022-03-30</td>\n    </tr>\n  </tbody>\n</table>\n</div>"
     },
     "execution_count": 11,
     "metadata": {},
     "output_type": "execute_result"
    }
   ],
   "source": [
    "def add_yeterday_date_columns():\n",
    "    concat_df = pd.DataFrame()\n",
    "    for i , row in input_df.iterrows():\n",
    "        input_df_row = input_df.loc[i]\n",
    "        date = str(input_df_row['date'])\n",
    "        date_temp = dt.datetime.strptime(date, '%Y-%m-%d %H:%M:%S')\n",
    "        yesterday = date_temp - dt.timedelta(days=1)\n",
    "\n",
    "        new_date_series = pd.Series([yesterday])\n",
    "        concat_df = pd.concat([concat_df, new_date_series], ignore_index=True, axis=0)\n",
    "        input_df['Yesterday'] = concat_df[0]\n",
    "    return input_df\n",
    "\n",
    "def add_date_columns(days_to_add, column_name):\n",
    "    concat_df = pd.DataFrame()\n",
    "    for i , row in input_df.iterrows():\n",
    "        input_df_row = input_df.loc[i]\n",
    "        date = str(input_df_row['date'])\n",
    "        date_temp = dt.datetime.strptime(date, '%Y-%m-%d %H:%M:%S')\n",
    "        new_date = date_temp + dt.timedelta(days=days_to_add)\n",
    "\n",
    "        new_date_series = pd.Series([new_date])\n",
    "        concat_df = pd.concat([concat_df, new_date_series], ignore_index=True, axis=0)\n",
    "        input_df[column_name] = concat_df[0]\n",
    "    return input_df\n",
    "\n",
    "\n",
    "add_yeterday_date_columns()\n",
    "\n",
    "add_date_columns(1, 'day 1')\n",
    "add_date_columns(2, 'day 2')\n",
    "add_date_columns(3, 'day 3')\n",
    "add_date_columns(4, 'day 4')\n",
    "add_date_columns(5, 'day 5')\n",
    "add_date_columns(6, 'day 6')\n",
    "add_date_columns(7, 'day 7')\n",
    "input_df.info()\n",
    "input_df"
   ],
   "metadata": {
    "collapsed": false,
    "pycharm": {
     "name": "#%%\n"
    }
   }
  },
  {
   "cell_type": "code",
   "execution_count": 12,
   "outputs": [
    {
     "name": "stdout",
     "output_type": "stream",
     "text": [
      "<class 'pandas.core.frame.DataFrame'>\n",
      "Int64Index: 50 entries, 0 to 49\n",
      "Data columns (total 4 columns):\n",
      " #   Column    Non-Null Count  Dtype \n",
      "---  ------    --------------  ----- \n",
      " 0   (Open,)   11 non-null     object\n",
      " 1   (High,)   11 non-null     object\n",
      " 2   (Low,)    11 non-null     object\n",
      " 3   (Close,)  11 non-null     object\n",
      "dtypes: object(4)\n",
      "memory usage: 2.0+ KB\n"
     ]
    },
    {
     "data": {
      "text/plain": "              Open            High             Low           Close\n0       0.91700000      0.98800000      0.90700000      0.97500000\n1       1.10800000      1.19000000      1.07600000      1.13100000\n2    3160.51000000   3233.00000000   3051.22000000   3141.66000000\n3    3046.11000000   3327.83000000   3033.80000000   3322.32000000\n4   42836.87000000  44700.00000000  42446.41000000  44572.54000000\n5              NaN             NaN             NaN             NaN\n6              NaN             NaN             NaN             NaN\n7              NaN             NaN             NaN             NaN\n8              NaN             NaN             NaN             NaN\n9              NaN             NaN             NaN             NaN\n10             NaN             NaN             NaN             NaN\n11      0.00001050      0.00001170      0.00001020      0.00001150\n12             NaN             NaN             NaN             NaN\n13      0.00000973      0.00001004      0.00000967      0.00000992\n14      0.00027892      0.00028249      0.00027016      0.00027217\n15      0.00020400      0.00026200      0.00020050      0.00024460\n16      0.00000038      0.00000039      0.00000034      0.00000035\n17      0.00011150      0.00012850      0.00010640      0.00012310\n18             NaN             NaN             NaN             NaN\n19             NaN             NaN             NaN             NaN\n20             NaN             NaN             NaN             NaN\n21             NaN             NaN             NaN             NaN\n22             NaN             NaN             NaN             NaN\n23             NaN             NaN             NaN             NaN\n24             NaN             NaN             NaN             NaN\n25             NaN             NaN             NaN             NaN\n26             NaN             NaN             NaN             NaN\n27             NaN             NaN             NaN             NaN\n28             NaN             NaN             NaN             NaN\n29             NaN             NaN             NaN             NaN\n30             NaN             NaN             NaN             NaN\n31             NaN             NaN             NaN             NaN\n32             NaN             NaN             NaN             NaN\n33             NaN             NaN             NaN             NaN\n34             NaN             NaN             NaN             NaN\n35             NaN             NaN             NaN             NaN\n36             NaN             NaN             NaN             NaN\n37             NaN             NaN             NaN             NaN\n38             NaN             NaN             NaN             NaN\n39             NaN             NaN             NaN             NaN\n40             NaN             NaN             NaN             NaN\n41             NaN             NaN             NaN             NaN\n42             NaN             NaN             NaN             NaN\n43             NaN             NaN             NaN             NaN\n44             NaN             NaN             NaN             NaN\n45             NaN             NaN             NaN             NaN\n46             NaN             NaN             NaN             NaN\n47             NaN             NaN             NaN             NaN\n48             NaN             NaN             NaN             NaN\n49             NaN             NaN             NaN             NaN",
      "text/html": "<div>\n<style scoped>\n    .dataframe tbody tr th:only-of-type {\n        vertical-align: middle;\n    }\n\n    .dataframe tbody tr th {\n        vertical-align: top;\n    }\n\n    .dataframe thead tr th {\n        text-align: left;\n    }\n</style>\n<table border=\"1\" class=\"dataframe\">\n  <thead>\n    <tr>\n      <th></th>\n      <th>Open</th>\n      <th>High</th>\n      <th>Low</th>\n      <th>Close</th>\n    </tr>\n  </thead>\n  <tbody>\n    <tr>\n      <th>0</th>\n      <td>0.91700000</td>\n      <td>0.98800000</td>\n      <td>0.90700000</td>\n      <td>0.97500000</td>\n    </tr>\n    <tr>\n      <th>1</th>\n      <td>1.10800000</td>\n      <td>1.19000000</td>\n      <td>1.07600000</td>\n      <td>1.13100000</td>\n    </tr>\n    <tr>\n      <th>2</th>\n      <td>3160.51000000</td>\n      <td>3233.00000000</td>\n      <td>3051.22000000</td>\n      <td>3141.66000000</td>\n    </tr>\n    <tr>\n      <th>3</th>\n      <td>3046.11000000</td>\n      <td>3327.83000000</td>\n      <td>3033.80000000</td>\n      <td>3322.32000000</td>\n    </tr>\n    <tr>\n      <th>4</th>\n      <td>42836.87000000</td>\n      <td>44700.00000000</td>\n      <td>42446.41000000</td>\n      <td>44572.54000000</td>\n    </tr>\n    <tr>\n      <th>5</th>\n      <td>NaN</td>\n      <td>NaN</td>\n      <td>NaN</td>\n      <td>NaN</td>\n    </tr>\n    <tr>\n      <th>6</th>\n      <td>NaN</td>\n      <td>NaN</td>\n      <td>NaN</td>\n      <td>NaN</td>\n    </tr>\n    <tr>\n      <th>7</th>\n      <td>NaN</td>\n      <td>NaN</td>\n      <td>NaN</td>\n      <td>NaN</td>\n    </tr>\n    <tr>\n      <th>8</th>\n      <td>NaN</td>\n      <td>NaN</td>\n      <td>NaN</td>\n      <td>NaN</td>\n    </tr>\n    <tr>\n      <th>9</th>\n      <td>NaN</td>\n      <td>NaN</td>\n      <td>NaN</td>\n      <td>NaN</td>\n    </tr>\n    <tr>\n      <th>10</th>\n      <td>NaN</td>\n      <td>NaN</td>\n      <td>NaN</td>\n      <td>NaN</td>\n    </tr>\n    <tr>\n      <th>11</th>\n      <td>0.00001050</td>\n      <td>0.00001170</td>\n      <td>0.00001020</td>\n      <td>0.00001150</td>\n    </tr>\n    <tr>\n      <th>12</th>\n      <td>NaN</td>\n      <td>NaN</td>\n      <td>NaN</td>\n      <td>NaN</td>\n    </tr>\n    <tr>\n      <th>13</th>\n      <td>0.00000973</td>\n      <td>0.00001004</td>\n      <td>0.00000967</td>\n      <td>0.00000992</td>\n    </tr>\n    <tr>\n      <th>14</th>\n      <td>0.00027892</td>\n      <td>0.00028249</td>\n      <td>0.00027016</td>\n      <td>0.00027217</td>\n    </tr>\n    <tr>\n      <th>15</th>\n      <td>0.00020400</td>\n      <td>0.00026200</td>\n      <td>0.00020050</td>\n      <td>0.00024460</td>\n    </tr>\n    <tr>\n      <th>16</th>\n      <td>0.00000038</td>\n      <td>0.00000039</td>\n      <td>0.00000034</td>\n      <td>0.00000035</td>\n    </tr>\n    <tr>\n      <th>17</th>\n      <td>0.00011150</td>\n      <td>0.00012850</td>\n      <td>0.00010640</td>\n      <td>0.00012310</td>\n    </tr>\n    <tr>\n      <th>18</th>\n      <td>NaN</td>\n      <td>NaN</td>\n      <td>NaN</td>\n      <td>NaN</td>\n    </tr>\n    <tr>\n      <th>19</th>\n      <td>NaN</td>\n      <td>NaN</td>\n      <td>NaN</td>\n      <td>NaN</td>\n    </tr>\n    <tr>\n      <th>20</th>\n      <td>NaN</td>\n      <td>NaN</td>\n      <td>NaN</td>\n      <td>NaN</td>\n    </tr>\n    <tr>\n      <th>21</th>\n      <td>NaN</td>\n      <td>NaN</td>\n      <td>NaN</td>\n      <td>NaN</td>\n    </tr>\n    <tr>\n      <th>22</th>\n      <td>NaN</td>\n      <td>NaN</td>\n      <td>NaN</td>\n      <td>NaN</td>\n    </tr>\n    <tr>\n      <th>23</th>\n      <td>NaN</td>\n      <td>NaN</td>\n      <td>NaN</td>\n      <td>NaN</td>\n    </tr>\n    <tr>\n      <th>24</th>\n      <td>NaN</td>\n      <td>NaN</td>\n      <td>NaN</td>\n      <td>NaN</td>\n    </tr>\n    <tr>\n      <th>25</th>\n      <td>NaN</td>\n      <td>NaN</td>\n      <td>NaN</td>\n      <td>NaN</td>\n    </tr>\n    <tr>\n      <th>26</th>\n      <td>NaN</td>\n      <td>NaN</td>\n      <td>NaN</td>\n      <td>NaN</td>\n    </tr>\n    <tr>\n      <th>27</th>\n      <td>NaN</td>\n      <td>NaN</td>\n      <td>NaN</td>\n      <td>NaN</td>\n    </tr>\n    <tr>\n      <th>28</th>\n      <td>NaN</td>\n      <td>NaN</td>\n      <td>NaN</td>\n      <td>NaN</td>\n    </tr>\n    <tr>\n      <th>29</th>\n      <td>NaN</td>\n      <td>NaN</td>\n      <td>NaN</td>\n      <td>NaN</td>\n    </tr>\n    <tr>\n      <th>30</th>\n      <td>NaN</td>\n      <td>NaN</td>\n      <td>NaN</td>\n      <td>NaN</td>\n    </tr>\n    <tr>\n      <th>31</th>\n      <td>NaN</td>\n      <td>NaN</td>\n      <td>NaN</td>\n      <td>NaN</td>\n    </tr>\n    <tr>\n      <th>32</th>\n      <td>NaN</td>\n      <td>NaN</td>\n      <td>NaN</td>\n      <td>NaN</td>\n    </tr>\n    <tr>\n      <th>33</th>\n      <td>NaN</td>\n      <td>NaN</td>\n      <td>NaN</td>\n      <td>NaN</td>\n    </tr>\n    <tr>\n      <th>34</th>\n      <td>NaN</td>\n      <td>NaN</td>\n      <td>NaN</td>\n      <td>NaN</td>\n    </tr>\n    <tr>\n      <th>35</th>\n      <td>NaN</td>\n      <td>NaN</td>\n      <td>NaN</td>\n      <td>NaN</td>\n    </tr>\n    <tr>\n      <th>36</th>\n      <td>NaN</td>\n      <td>NaN</td>\n      <td>NaN</td>\n      <td>NaN</td>\n    </tr>\n    <tr>\n      <th>37</th>\n      <td>NaN</td>\n      <td>NaN</td>\n      <td>NaN</td>\n      <td>NaN</td>\n    </tr>\n    <tr>\n      <th>38</th>\n      <td>NaN</td>\n      <td>NaN</td>\n      <td>NaN</td>\n      <td>NaN</td>\n    </tr>\n    <tr>\n      <th>39</th>\n      <td>NaN</td>\n      <td>NaN</td>\n      <td>NaN</td>\n      <td>NaN</td>\n    </tr>\n    <tr>\n      <th>40</th>\n      <td>NaN</td>\n      <td>NaN</td>\n      <td>NaN</td>\n      <td>NaN</td>\n    </tr>\n    <tr>\n      <th>41</th>\n      <td>NaN</td>\n      <td>NaN</td>\n      <td>NaN</td>\n      <td>NaN</td>\n    </tr>\n    <tr>\n      <th>42</th>\n      <td>NaN</td>\n      <td>NaN</td>\n      <td>NaN</td>\n      <td>NaN</td>\n    </tr>\n    <tr>\n      <th>43</th>\n      <td>NaN</td>\n      <td>NaN</td>\n      <td>NaN</td>\n      <td>NaN</td>\n    </tr>\n    <tr>\n      <th>44</th>\n      <td>NaN</td>\n      <td>NaN</td>\n      <td>NaN</td>\n      <td>NaN</td>\n    </tr>\n    <tr>\n      <th>45</th>\n      <td>NaN</td>\n      <td>NaN</td>\n      <td>NaN</td>\n      <td>NaN</td>\n    </tr>\n    <tr>\n      <th>46</th>\n      <td>NaN</td>\n      <td>NaN</td>\n      <td>NaN</td>\n      <td>NaN</td>\n    </tr>\n    <tr>\n      <th>47</th>\n      <td>NaN</td>\n      <td>NaN</td>\n      <td>NaN</td>\n      <td>NaN</td>\n    </tr>\n    <tr>\n      <th>48</th>\n      <td>NaN</td>\n      <td>NaN</td>\n      <td>NaN</td>\n      <td>NaN</td>\n    </tr>\n    <tr>\n      <th>49</th>\n      <td>NaN</td>\n      <td>NaN</td>\n      <td>NaN</td>\n      <td>NaN</td>\n    </tr>\n  </tbody>\n</table>\n</div>"
     },
     "execution_count": 12,
     "metadata": {},
     "output_type": "execute_result"
    }
   ],
   "source": [
    "\n",
    "def merge_data(df_name, input_df_date):\n",
    "    # merge crypto data with input data\n",
    "    df_name = pd.DataFrame()\n",
    "    df_name = pd.concat([df_name, input_df], axis=1, ignore_index=True)\n",
    "    df_name.columns = (['coin', 'day 0', 'Yesterday', 'day 1', 'day 2', 'day 3', 'day 4',\n",
    "                        'day 5', 'day 6', 'day 7'])\n",
    "    df_name = df_name[['coin', input_df_date]]\n",
    "\n",
    "\n",
    "    # df_name = pd.concat([df_name, hist_df], join='inner', axis=1, ignore_index=True, copy=False)\n",
    "    df_name = pd.merge(left=df_name,right=hist_df, left_on=['coin', input_df_date], right_on=['symbol', 'opentime'],\n",
    "                       how='left', copy=False)\n",
    "\n",
    "    df_name.columns = ([['coin', input_df_date, 'opentime', 'Open', 'High', 'Low', 'Close', 'symbol']])\n",
    "\n",
    "    df_name = df_name[['Open', 'High', 'Low', 'Close']]\n",
    "\n",
    "    return df_name\n",
    "\n",
    "yesterday_df = merge_data('yesterday_df', 'Yesterday')\n",
    "day0_df = merge_data('day0_df', 'day 0')\n",
    "day1_df = merge_data('day1_df', 'day 1')\n",
    "day2_df = merge_data('day2_df', 'day 2')\n",
    "day3_df = merge_data('day3_df', 'day 3')\n",
    "day4_df = merge_data('day4_df', 'day 4')\n",
    "day5_df = merge_data('day5_df', 'day 5')\n",
    "day6_df = merge_data('day6_df', 'day 6')\n",
    "day7_df = merge_data('day7_df', 'day 7')\n",
    "\n",
    "\n",
    "yesterday_df.info()\n",
    "yesterday_df"
   ],
   "metadata": {
    "collapsed": false,
    "pycharm": {
     "name": "#%%\n"
    }
   }
  },
  {
   "cell_type": "code",
   "execution_count": 13,
   "outputs": [
    {
     "data": {
      "text/plain": "              Open            High             Low           Close\n0       0.91700000      0.98800000      0.90700000      0.97500000\n1       1.10800000      1.19000000      1.07600000      1.13100000\n2    3160.51000000   3233.00000000   3051.22000000   3141.66000000\n3    3046.11000000   3327.83000000   3033.80000000   3322.32000000\n4   42836.87000000  44700.00000000  42446.41000000  44572.54000000\n5              NaN             NaN             NaN             NaN\n6              NaN             NaN             NaN             NaN\n7              NaN             NaN             NaN             NaN\n8              NaN             NaN             NaN             NaN\n9              NaN             NaN             NaN             NaN\n10             NaN             NaN             NaN             NaN\n11      0.00001050      0.00001170      0.00001020      0.00001150\n12             NaN             NaN             NaN             NaN\n13      0.00000973      0.00001004      0.00000967      0.00000992\n14      0.00027892      0.00028249      0.00027016      0.00027217\n15      0.00020400      0.00026200      0.00020050      0.00024460\n16      0.00000038      0.00000039      0.00000034      0.00000035\n17      0.00011150      0.00012850      0.00010640      0.00012310\n18             NaN             NaN             NaN             NaN\n19             NaN             NaN             NaN             NaN\n20             NaN             NaN             NaN             NaN\n21             NaN             NaN             NaN             NaN\n22             NaN             NaN             NaN             NaN\n23             NaN             NaN             NaN             NaN\n24             NaN             NaN             NaN             NaN\n25             NaN             NaN             NaN             NaN\n26             NaN             NaN             NaN             NaN\n27             NaN             NaN             NaN             NaN\n28             NaN             NaN             NaN             NaN\n29             NaN             NaN             NaN             NaN\n30             NaN             NaN             NaN             NaN\n31             NaN             NaN             NaN             NaN\n32             NaN             NaN             NaN             NaN\n33             NaN             NaN             NaN             NaN\n34             NaN             NaN             NaN             NaN\n35             NaN             NaN             NaN             NaN\n36             NaN             NaN             NaN             NaN\n37             NaN             NaN             NaN             NaN\n38             NaN             NaN             NaN             NaN\n39             NaN             NaN             NaN             NaN\n40             NaN             NaN             NaN             NaN\n41             NaN             NaN             NaN             NaN\n42             NaN             NaN             NaN             NaN\n43             NaN             NaN             NaN             NaN\n44             NaN             NaN             NaN             NaN\n45             NaN             NaN             NaN             NaN\n46             NaN             NaN             NaN             NaN\n47             NaN             NaN             NaN             NaN\n48             NaN             NaN             NaN             NaN\n49             NaN             NaN             NaN             NaN",
      "text/html": "<div>\n<style scoped>\n    .dataframe tbody tr th:only-of-type {\n        vertical-align: middle;\n    }\n\n    .dataframe tbody tr th {\n        vertical-align: top;\n    }\n\n    .dataframe thead tr th {\n        text-align: left;\n    }\n</style>\n<table border=\"1\" class=\"dataframe\">\n  <thead>\n    <tr>\n      <th></th>\n      <th>Open</th>\n      <th>High</th>\n      <th>Low</th>\n      <th>Close</th>\n    </tr>\n  </thead>\n  <tbody>\n    <tr>\n      <th>0</th>\n      <td>0.91700000</td>\n      <td>0.98800000</td>\n      <td>0.90700000</td>\n      <td>0.97500000</td>\n    </tr>\n    <tr>\n      <th>1</th>\n      <td>1.10800000</td>\n      <td>1.19000000</td>\n      <td>1.07600000</td>\n      <td>1.13100000</td>\n    </tr>\n    <tr>\n      <th>2</th>\n      <td>3160.51000000</td>\n      <td>3233.00000000</td>\n      <td>3051.22000000</td>\n      <td>3141.66000000</td>\n    </tr>\n    <tr>\n      <th>3</th>\n      <td>3046.11000000</td>\n      <td>3327.83000000</td>\n      <td>3033.80000000</td>\n      <td>3322.32000000</td>\n    </tr>\n    <tr>\n      <th>4</th>\n      <td>42836.87000000</td>\n      <td>44700.00000000</td>\n      <td>42446.41000000</td>\n      <td>44572.54000000</td>\n    </tr>\n    <tr>\n      <th>5</th>\n      <td>NaN</td>\n      <td>NaN</td>\n      <td>NaN</td>\n      <td>NaN</td>\n    </tr>\n    <tr>\n      <th>6</th>\n      <td>NaN</td>\n      <td>NaN</td>\n      <td>NaN</td>\n      <td>NaN</td>\n    </tr>\n    <tr>\n      <th>7</th>\n      <td>NaN</td>\n      <td>NaN</td>\n      <td>NaN</td>\n      <td>NaN</td>\n    </tr>\n    <tr>\n      <th>8</th>\n      <td>NaN</td>\n      <td>NaN</td>\n      <td>NaN</td>\n      <td>NaN</td>\n    </tr>\n    <tr>\n      <th>9</th>\n      <td>NaN</td>\n      <td>NaN</td>\n      <td>NaN</td>\n      <td>NaN</td>\n    </tr>\n    <tr>\n      <th>10</th>\n      <td>NaN</td>\n      <td>NaN</td>\n      <td>NaN</td>\n      <td>NaN</td>\n    </tr>\n    <tr>\n      <th>11</th>\n      <td>0.00001050</td>\n      <td>0.00001170</td>\n      <td>0.00001020</td>\n      <td>0.00001150</td>\n    </tr>\n    <tr>\n      <th>12</th>\n      <td>NaN</td>\n      <td>NaN</td>\n      <td>NaN</td>\n      <td>NaN</td>\n    </tr>\n    <tr>\n      <th>13</th>\n      <td>0.00000973</td>\n      <td>0.00001004</td>\n      <td>0.00000967</td>\n      <td>0.00000992</td>\n    </tr>\n    <tr>\n      <th>14</th>\n      <td>0.00027892</td>\n      <td>0.00028249</td>\n      <td>0.00027016</td>\n      <td>0.00027217</td>\n    </tr>\n    <tr>\n      <th>15</th>\n      <td>0.00020400</td>\n      <td>0.00026200</td>\n      <td>0.00020050</td>\n      <td>0.00024460</td>\n    </tr>\n    <tr>\n      <th>16</th>\n      <td>0.00000038</td>\n      <td>0.00000039</td>\n      <td>0.00000034</td>\n      <td>0.00000035</td>\n    </tr>\n    <tr>\n      <th>17</th>\n      <td>0.00011150</td>\n      <td>0.00012850</td>\n      <td>0.00010640</td>\n      <td>0.00012310</td>\n    </tr>\n    <tr>\n      <th>18</th>\n      <td>NaN</td>\n      <td>NaN</td>\n      <td>NaN</td>\n      <td>NaN</td>\n    </tr>\n    <tr>\n      <th>19</th>\n      <td>NaN</td>\n      <td>NaN</td>\n      <td>NaN</td>\n      <td>NaN</td>\n    </tr>\n    <tr>\n      <th>20</th>\n      <td>NaN</td>\n      <td>NaN</td>\n      <td>NaN</td>\n      <td>NaN</td>\n    </tr>\n    <tr>\n      <th>21</th>\n      <td>NaN</td>\n      <td>NaN</td>\n      <td>NaN</td>\n      <td>NaN</td>\n    </tr>\n    <tr>\n      <th>22</th>\n      <td>NaN</td>\n      <td>NaN</td>\n      <td>NaN</td>\n      <td>NaN</td>\n    </tr>\n    <tr>\n      <th>23</th>\n      <td>NaN</td>\n      <td>NaN</td>\n      <td>NaN</td>\n      <td>NaN</td>\n    </tr>\n    <tr>\n      <th>24</th>\n      <td>NaN</td>\n      <td>NaN</td>\n      <td>NaN</td>\n      <td>NaN</td>\n    </tr>\n    <tr>\n      <th>25</th>\n      <td>NaN</td>\n      <td>NaN</td>\n      <td>NaN</td>\n      <td>NaN</td>\n    </tr>\n    <tr>\n      <th>26</th>\n      <td>NaN</td>\n      <td>NaN</td>\n      <td>NaN</td>\n      <td>NaN</td>\n    </tr>\n    <tr>\n      <th>27</th>\n      <td>NaN</td>\n      <td>NaN</td>\n      <td>NaN</td>\n      <td>NaN</td>\n    </tr>\n    <tr>\n      <th>28</th>\n      <td>NaN</td>\n      <td>NaN</td>\n      <td>NaN</td>\n      <td>NaN</td>\n    </tr>\n    <tr>\n      <th>29</th>\n      <td>NaN</td>\n      <td>NaN</td>\n      <td>NaN</td>\n      <td>NaN</td>\n    </tr>\n    <tr>\n      <th>30</th>\n      <td>NaN</td>\n      <td>NaN</td>\n      <td>NaN</td>\n      <td>NaN</td>\n    </tr>\n    <tr>\n      <th>31</th>\n      <td>NaN</td>\n      <td>NaN</td>\n      <td>NaN</td>\n      <td>NaN</td>\n    </tr>\n    <tr>\n      <th>32</th>\n      <td>NaN</td>\n      <td>NaN</td>\n      <td>NaN</td>\n      <td>NaN</td>\n    </tr>\n    <tr>\n      <th>33</th>\n      <td>NaN</td>\n      <td>NaN</td>\n      <td>NaN</td>\n      <td>NaN</td>\n    </tr>\n    <tr>\n      <th>34</th>\n      <td>NaN</td>\n      <td>NaN</td>\n      <td>NaN</td>\n      <td>NaN</td>\n    </tr>\n    <tr>\n      <th>35</th>\n      <td>NaN</td>\n      <td>NaN</td>\n      <td>NaN</td>\n      <td>NaN</td>\n    </tr>\n    <tr>\n      <th>36</th>\n      <td>NaN</td>\n      <td>NaN</td>\n      <td>NaN</td>\n      <td>NaN</td>\n    </tr>\n    <tr>\n      <th>37</th>\n      <td>NaN</td>\n      <td>NaN</td>\n      <td>NaN</td>\n      <td>NaN</td>\n    </tr>\n    <tr>\n      <th>38</th>\n      <td>NaN</td>\n      <td>NaN</td>\n      <td>NaN</td>\n      <td>NaN</td>\n    </tr>\n    <tr>\n      <th>39</th>\n      <td>NaN</td>\n      <td>NaN</td>\n      <td>NaN</td>\n      <td>NaN</td>\n    </tr>\n    <tr>\n      <th>40</th>\n      <td>NaN</td>\n      <td>NaN</td>\n      <td>NaN</td>\n      <td>NaN</td>\n    </tr>\n    <tr>\n      <th>41</th>\n      <td>NaN</td>\n      <td>NaN</td>\n      <td>NaN</td>\n      <td>NaN</td>\n    </tr>\n    <tr>\n      <th>42</th>\n      <td>NaN</td>\n      <td>NaN</td>\n      <td>NaN</td>\n      <td>NaN</td>\n    </tr>\n    <tr>\n      <th>43</th>\n      <td>NaN</td>\n      <td>NaN</td>\n      <td>NaN</td>\n      <td>NaN</td>\n    </tr>\n    <tr>\n      <th>44</th>\n      <td>NaN</td>\n      <td>NaN</td>\n      <td>NaN</td>\n      <td>NaN</td>\n    </tr>\n    <tr>\n      <th>45</th>\n      <td>NaN</td>\n      <td>NaN</td>\n      <td>NaN</td>\n      <td>NaN</td>\n    </tr>\n    <tr>\n      <th>46</th>\n      <td>NaN</td>\n      <td>NaN</td>\n      <td>NaN</td>\n      <td>NaN</td>\n    </tr>\n    <tr>\n      <th>47</th>\n      <td>NaN</td>\n      <td>NaN</td>\n      <td>NaN</td>\n      <td>NaN</td>\n    </tr>\n    <tr>\n      <th>48</th>\n      <td>NaN</td>\n      <td>NaN</td>\n      <td>NaN</td>\n      <td>NaN</td>\n    </tr>\n    <tr>\n      <th>49</th>\n      <td>NaN</td>\n      <td>NaN</td>\n      <td>NaN</td>\n      <td>NaN</td>\n    </tr>\n  </tbody>\n</table>\n</div>"
     },
     "execution_count": 13,
     "metadata": {},
     "output_type": "execute_result"
    }
   ],
   "source": [
    "yesterday_df"
   ],
   "metadata": {
    "collapsed": false,
    "pycharm": {
     "name": "#%%\n"
    }
   }
  },
  {
   "cell_type": "code",
   "execution_count": 14,
   "outputs": [
    {
     "name": "stdout",
     "output_type": "stream",
     "text": [
      "<class 'pandas.core.frame.DataFrame'>\n",
      "Int64Index: 50 entries, 0 to 49\n",
      "Data columns (total 38 columns):\n",
      " #   Column  Non-Null Count  Dtype         \n",
      "---  ------  --------------  -----         \n",
      " 0   Open    11 non-null     object        \n",
      " 1   High    11 non-null     object        \n",
      " 2   Low     11 non-null     object        \n",
      " 3   Close   11 non-null     object        \n",
      " 4   coin    50 non-null     object        \n",
      " 5   date    50 non-null     datetime64[ns]\n",
      " 6   Open0   11 non-null     object        \n",
      " 7   High0   11 non-null     object        \n",
      " 8   Low0    11 non-null     object        \n",
      " 9   Close0  11 non-null     object        \n",
      " 10  Open1   11 non-null     object        \n",
      " 11  High1   11 non-null     object        \n",
      " 12  Low1    11 non-null     object        \n",
      " 13  Close1  11 non-null     object        \n",
      " 14  Open2   11 non-null     object        \n",
      " 15  High2   11 non-null     object        \n",
      " 16  Low2    11 non-null     object        \n",
      " 17  Close2  11 non-null     object        \n",
      " 18  Open3   11 non-null     object        \n",
      " 19  High3   11 non-null     object        \n",
      " 20  Low3    11 non-null     object        \n",
      " 21  Close3  11 non-null     object        \n",
      " 22  Open4   11 non-null     object        \n",
      " 23  High4   11 non-null     object        \n",
      " 24  Low4    11 non-null     object        \n",
      " 25  Close4  11 non-null     object        \n",
      " 26  Open5   11 non-null     object        \n",
      " 27  High5   11 non-null     object        \n",
      " 28  Low5    11 non-null     object        \n",
      " 29  Close5  11 non-null     object        \n",
      " 30  Open6   11 non-null     object        \n",
      " 31  High6   11 non-null     object        \n",
      " 32  Low6    11 non-null     object        \n",
      " 33  Close6  11 non-null     object        \n",
      " 34  Open7   11 non-null     object        \n",
      " 35  High7   11 non-null     object        \n",
      " 36  Low7    11 non-null     object        \n",
      " 37  Close7  11 non-null     object        \n",
      "dtypes: datetime64[ns](1), object(37)\n",
      "memory usage: 15.2+ KB\n"
     ]
    },
    {
     "data": {
      "text/plain": "              Open            High             Low           Close       coin  \\\n0       0.91700000      0.98800000      0.90700000      0.97500000    ADAUSDT   \n1       1.10800000      1.19000000      1.07600000      1.13100000    ADAUSDT   \n2    3160.51000000   3233.00000000   3051.22000000   3141.66000000    ETHUSDT   \n3    3046.11000000   3327.83000000   3033.80000000   3322.32000000    ETHUSDT   \n4   42836.87000000  44700.00000000  42446.41000000  44572.54000000    BTCUSDT   \n5              NaN             NaN             NaN             NaN     HSRBTC   \n6              NaN             NaN             NaN             NaN     OAXETH   \n7              NaN             NaN             NaN             NaN     DNTETH   \n8              NaN             NaN             NaN             NaN     MCOETH   \n9              NaN             NaN             NaN             NaN     ICNETH   \n10             NaN             NaN             NaN             NaN     MCOBTC   \n11      0.00001050      0.00001170      0.00001020      0.00001150     WTCBTC   \n12             NaN             NaN             NaN             NaN     WTCETH   \n13      0.00000973      0.00001004      0.00000967      0.00000992     LRCBTC   \n14      0.00027892      0.00028249      0.00027016      0.00027217     LRCETH   \n15      0.00020400      0.00026200      0.00020050      0.00024460    QTUMBTC   \n16      0.00000038      0.00000039      0.00000034      0.00000035    YOYOBTC   \n17      0.00011150      0.00012850      0.00010640      0.00012310     OMGBTC   \n18             NaN             NaN             NaN             NaN     SNXETH   \n19             NaN             NaN             NaN             NaN   WBTCBUSD   \n20             NaN             NaN             NaN             NaN     BELETH   \n21             NaN             NaN             NaN             NaN     LITETH   \n22             NaN             NaN             NaN             NaN  LEVERUSDT   \n23             NaN             NaN             NaN             NaN  LEVERBUSD   \n24             NaN             NaN             NaN             NaN  BURGERETH   \n25             NaN             NaN             NaN             NaN  PEOPLEETH   \n26             NaN             NaN             NaN             NaN    UNFIETH   \n27             NaN             NaN             NaN             NaN    BONDETH   \n28             NaN             NaN             NaN             NaN   STORJTRY   \n29             NaN             NaN             NaN             NaN      OPETH   \n30             NaN             NaN             NaN             NaN     ETCTRY   \n31             NaN             NaN             NaN             NaN    WINGETH   \n32             NaN             NaN             NaN             NaN     FILETH   \n33             NaN             NaN             NaN             NaN    GLMBUSD   \n34             NaN             NaN             NaN             NaN    SSVBUSD   \n35             NaN             NaN             NaN             NaN     STGBTC   \n36             NaN             NaN             NaN             NaN    STGBUSD   \n37             NaN             NaN             NaN             NaN    STGUSDT   \n38             NaN             NaN             NaN             NaN    ANKRTRY   \n39             NaN             NaN             NaN             NaN    ARKBUSD   \n40             NaN             NaN             NaN             NaN   BETHBUSD   \n41             NaN             NaN             NaN             NaN   LOOMBUSD   \n42             NaN             NaN             NaN             NaN    SNMBUSD   \n43             NaN             NaN             NaN             NaN    AMBBUSD   \n44             NaN             NaN             NaN             NaN   LUNCUSDT   \n45             NaN             NaN             NaN             NaN    PHBBUSD   \n46             NaN             NaN             NaN             NaN    GASBUSD   \n47             NaN             NaN             NaN             NaN   NEBLBUSD   \n48             NaN             NaN             NaN             NaN   PROSBUSD   \n49             NaN             NaN             NaN             NaN    VIBBUSD   \n\n         date           Open0           High0            Low0          Close0  \\\n0  2022-03-23      0.97500000      1.11000000      0.95700000      1.10800000   \n1  2022-03-25      1.13000000      1.16700000      1.07200000      1.09600000   \n2  2021-08-11   3141.14000000   3274.00000000   3120.27000000   3160.50000000   \n3  2021-08-14   3322.33000000   3330.98000000   3200.00000000   3263.16000000   \n4  2021-08-08  44572.54000000  45310.00000000  43261.00000000  43794.37000000   \n5  2021-02-04             NaN             NaN             NaN             NaN   \n6  2022-06-02             NaN             NaN             NaN             NaN   \n7  2021-06-07             NaN             NaN             NaN             NaN   \n8  2022-03-23             NaN             NaN             NaN             NaN   \n9  2021-08-08             NaN             NaN             NaN             NaN   \n10 2021-08-08             NaN             NaN             NaN             NaN   \n11 2021-02-04      0.00001140      0.00001330      0.00001050      0.00001190   \n12 2022-06-02             NaN             NaN             NaN             NaN   \n13 2021-06-07      0.00000993      0.00001038      0.00000968      0.00000976   \n14 2022-03-23      0.00027259      0.00041659      0.00027259      0.00038560   \n15 2021-08-08      0.00024450      0.00026170      0.00022940      0.00023400   \n16 2021-08-08      0.00000036      0.00000038      0.00000032      0.00000033   \n17 2021-02-04      0.00012310      0.00012350      0.00011110      0.00012020   \n18 2022-06-02             NaN             NaN             NaN             NaN   \n19 2021-06-07             NaN             NaN             NaN             NaN   \n20 2022-03-23             NaN             NaN             NaN             NaN   \n21 2021-08-08             NaN             NaN             NaN             NaN   \n22 2021-08-08             NaN             NaN             NaN             NaN   \n23 2021-02-04             NaN             NaN             NaN             NaN   \n24 2022-06-02             NaN             NaN             NaN             NaN   \n25 2021-06-07             NaN             NaN             NaN             NaN   \n26 2022-03-23             NaN             NaN             NaN             NaN   \n27 2021-08-08             NaN             NaN             NaN             NaN   \n28 2021-08-08             NaN             NaN             NaN             NaN   \n29 2022-06-02             NaN             NaN             NaN             NaN   \n30 2021-06-07             NaN             NaN             NaN             NaN   \n31 2022-03-23             NaN             NaN             NaN             NaN   \n32 2021-08-08             NaN             NaN             NaN             NaN   \n33 2021-08-08             NaN             NaN             NaN             NaN   \n34 2021-02-04             NaN             NaN             NaN             NaN   \n35 2022-06-02             NaN             NaN             NaN             NaN   \n36 2021-06-07             NaN             NaN             NaN             NaN   \n37 2022-03-23             NaN             NaN             NaN             NaN   \n38 2021-08-08             NaN             NaN             NaN             NaN   \n39 2021-08-08             NaN             NaN             NaN             NaN   \n40 2021-02-04             NaN             NaN             NaN             NaN   \n41 2022-06-02             NaN             NaN             NaN             NaN   \n42 2021-06-07             NaN             NaN             NaN             NaN   \n43 2022-03-23             NaN             NaN             NaN             NaN   \n44 2021-08-08             NaN             NaN             NaN             NaN   \n45 2021-08-08             NaN             NaN             NaN             NaN   \n46 2021-02-04             NaN             NaN             NaN             NaN   \n47 2022-06-02             NaN             NaN             NaN             NaN   \n48 2021-06-07             NaN             NaN             NaN             NaN   \n49 2022-03-23             NaN             NaN             NaN             NaN   \n\n    ...            Low5          Close5           Open6           High6  \\\n0   ...      1.15700000      1.17000000      1.17000000      1.24300000   \n1   ...      1.16100000      1.18900000      1.18900000      1.22800000   \n2   ...   3135.22000000   3146.53000000   3147.18000000   3290.00000000   \n3   ...   2958.33000000   3184.12000000   3184.11000000   3300.00000000   \n4   ...  44217.39000000  47800.00000000  47799.99000000  48144.00000000   \n5   ...             NaN             NaN             NaN             NaN   \n6   ...             NaN             NaN             NaN             NaN   \n7   ...             NaN             NaN             NaN             NaN   \n8   ...             NaN             NaN             NaN             NaN   \n9   ...             NaN             NaN             NaN             NaN   \n10  ...             NaN             NaN             NaN             NaN   \n11  ...      0.00000970      0.00001330      0.00001340      0.00001470   \n12  ...             NaN             NaN             NaN             NaN   \n13  ...      0.00000772      0.00000817      0.00000816      0.00000840   \n14  ...      0.00032710      0.00033839      0.00033859      0.00039889   \n15  ...      0.00022850      0.00029260      0.00029240      0.00031970   \n16  ...      0.00000051      0.00000055      0.00000054      0.00000060   \n17  ...      0.00010000      0.00011000      0.00011020      0.00012750   \n18  ...             NaN             NaN             NaN             NaN   \n19  ...             NaN             NaN             NaN             NaN   \n20  ...             NaN             NaN             NaN             NaN   \n21  ...             NaN             NaN             NaN             NaN   \n22  ...             NaN             NaN             NaN             NaN   \n23  ...             NaN             NaN             NaN             NaN   \n24  ...             NaN             NaN             NaN             NaN   \n25  ...             NaN             NaN             NaN             NaN   \n26  ...             NaN             NaN             NaN             NaN   \n27  ...             NaN             NaN             NaN             NaN   \n28  ...             NaN             NaN             NaN             NaN   \n29  ...             NaN             NaN             NaN             NaN   \n30  ...             NaN             NaN             NaN             NaN   \n31  ...             NaN             NaN             NaN             NaN   \n32  ...             NaN             NaN             NaN             NaN   \n33  ...             NaN             NaN             NaN             NaN   \n34  ...             NaN             NaN             NaN             NaN   \n35  ...             NaN             NaN             NaN             NaN   \n36  ...             NaN             NaN             NaN             NaN   \n37  ...             NaN             NaN             NaN             NaN   \n38  ...             NaN             NaN             NaN             NaN   \n39  ...             NaN             NaN             NaN             NaN   \n40  ...             NaN             NaN             NaN             NaN   \n41  ...             NaN             NaN             NaN             NaN   \n42  ...             NaN             NaN             NaN             NaN   \n43  ...             NaN             NaN             NaN             NaN   \n44  ...             NaN             NaN             NaN             NaN   \n45  ...             NaN             NaN             NaN             NaN   \n46  ...             NaN             NaN             NaN             NaN   \n47  ...             NaN             NaN             NaN             NaN   \n48  ...             NaN             NaN             NaN             NaN   \n49  ...             NaN             NaN             NaN             NaN   \n\n              Low6          Close6           Open7           High7  \\\n0       1.16600000      1.19100000      1.19100000      1.21800000   \n1       1.13300000      1.14100000      1.14100000      1.17500000   \n2    2991.89000000   3011.72000000   3011.73000000   3125.81000000   \n3    3177.16000000   3284.82000000   3284.81000000   3309.16000000   \n4   45971.03000000  47068.51000000  47068.50000000  47372.27000000   \n5              NaN             NaN             NaN             NaN   \n6              NaN             NaN             NaN             NaN   \n7              NaN             NaN             NaN             NaN   \n8              NaN             NaN             NaN             NaN   \n9              NaN             NaN             NaN             NaN   \n10             NaN             NaN             NaN             NaN   \n11      0.00001160      0.00001340      0.00001340      0.00001660   \n12             NaN             NaN             NaN             NaN   \n13      0.00000771      0.00000782      0.00000784      0.00000800   \n14      0.00033700      0.00037810      0.00037742      0.00039211   \n15      0.00029240      0.00029970      0.00029960      0.00029970   \n16      0.00000051      0.00000053      0.00000053      0.00000063   \n17      0.00010860      0.00012460      0.00012440      0.00013840   \n18             NaN             NaN             NaN             NaN   \n19             NaN             NaN             NaN             NaN   \n20             NaN             NaN             NaN             NaN   \n21             NaN             NaN             NaN             NaN   \n22             NaN             NaN             NaN             NaN   \n23             NaN             NaN             NaN             NaN   \n24             NaN             NaN             NaN             NaN   \n25             NaN             NaN             NaN             NaN   \n26             NaN             NaN             NaN             NaN   \n27             NaN             NaN             NaN             NaN   \n28             NaN             NaN             NaN             NaN   \n29             NaN             NaN             NaN             NaN   \n30             NaN             NaN             NaN             NaN   \n31             NaN             NaN             NaN             NaN   \n32             NaN             NaN             NaN             NaN   \n33             NaN             NaN             NaN             NaN   \n34             NaN             NaN             NaN             NaN   \n35             NaN             NaN             NaN             NaN   \n36             NaN             NaN             NaN             NaN   \n37             NaN             NaN             NaN             NaN   \n38             NaN             NaN             NaN             NaN   \n39             NaN             NaN             NaN             NaN   \n40             NaN             NaN             NaN             NaN   \n41             NaN             NaN             NaN             NaN   \n42             NaN             NaN             NaN             NaN   \n43             NaN             NaN             NaN             NaN   \n44             NaN             NaN             NaN             NaN   \n45             NaN             NaN             NaN             NaN   \n46             NaN             NaN             NaN             NaN   \n47             NaN             NaN             NaN             NaN   \n48             NaN             NaN             NaN             NaN   \n49             NaN             NaN             NaN             NaN   \n\n              Low7          Close7  \n0       1.16100000      1.18900000  \n1       1.10400000      1.16500000  \n2    2950.00000000   3014.55000000  \n3    3207.00000000   3223.43000000  \n4   45500.00000000  46973.82000000  \n5              NaN             NaN  \n6              NaN             NaN  \n7              NaN             NaN  \n8              NaN             NaN  \n9              NaN             NaN  \n10             NaN             NaN  \n11      0.00001300      0.00001520  \n12             NaN             NaN  \n13      0.00000754      0.00000773  \n14      0.00036000      0.00037477  \n15      0.00028210      0.00029320  \n16      0.00000051      0.00000056  \n17      0.00012030      0.00012400  \n18             NaN             NaN  \n19             NaN             NaN  \n20             NaN             NaN  \n21             NaN             NaN  \n22             NaN             NaN  \n23             NaN             NaN  \n24             NaN             NaN  \n25             NaN             NaN  \n26             NaN             NaN  \n27             NaN             NaN  \n28             NaN             NaN  \n29             NaN             NaN  \n30             NaN             NaN  \n31             NaN             NaN  \n32             NaN             NaN  \n33             NaN             NaN  \n34             NaN             NaN  \n35             NaN             NaN  \n36             NaN             NaN  \n37             NaN             NaN  \n38             NaN             NaN  \n39             NaN             NaN  \n40             NaN             NaN  \n41             NaN             NaN  \n42             NaN             NaN  \n43             NaN             NaN  \n44             NaN             NaN  \n45             NaN             NaN  \n46             NaN             NaN  \n47             NaN             NaN  \n48             NaN             NaN  \n49             NaN             NaN  \n\n[50 rows x 38 columns]",
      "text/html": "<div>\n<style scoped>\n    .dataframe tbody tr th:only-of-type {\n        vertical-align: middle;\n    }\n\n    .dataframe tbody tr th {\n        vertical-align: top;\n    }\n\n    .dataframe thead th {\n        text-align: right;\n    }\n</style>\n<table border=\"1\" class=\"dataframe\">\n  <thead>\n    <tr style=\"text-align: right;\">\n      <th></th>\n      <th>Open</th>\n      <th>High</th>\n      <th>Low</th>\n      <th>Close</th>\n      <th>coin</th>\n      <th>date</th>\n      <th>Open0</th>\n      <th>High0</th>\n      <th>Low0</th>\n      <th>Close0</th>\n      <th>...</th>\n      <th>Low5</th>\n      <th>Close5</th>\n      <th>Open6</th>\n      <th>High6</th>\n      <th>Low6</th>\n      <th>Close6</th>\n      <th>Open7</th>\n      <th>High7</th>\n      <th>Low7</th>\n      <th>Close7</th>\n    </tr>\n  </thead>\n  <tbody>\n    <tr>\n      <th>0</th>\n      <td>0.91700000</td>\n      <td>0.98800000</td>\n      <td>0.90700000</td>\n      <td>0.97500000</td>\n      <td>ADAUSDT</td>\n      <td>2022-03-23</td>\n      <td>0.97500000</td>\n      <td>1.11000000</td>\n      <td>0.95700000</td>\n      <td>1.10800000</td>\n      <td>...</td>\n      <td>1.15700000</td>\n      <td>1.17000000</td>\n      <td>1.17000000</td>\n      <td>1.24300000</td>\n      <td>1.16600000</td>\n      <td>1.19100000</td>\n      <td>1.19100000</td>\n      <td>1.21800000</td>\n      <td>1.16100000</td>\n      <td>1.18900000</td>\n    </tr>\n    <tr>\n      <th>1</th>\n      <td>1.10800000</td>\n      <td>1.19000000</td>\n      <td>1.07600000</td>\n      <td>1.13100000</td>\n      <td>ADAUSDT</td>\n      <td>2022-03-25</td>\n      <td>1.13000000</td>\n      <td>1.16700000</td>\n      <td>1.07200000</td>\n      <td>1.09600000</td>\n      <td>...</td>\n      <td>1.16100000</td>\n      <td>1.18900000</td>\n      <td>1.18900000</td>\n      <td>1.22800000</td>\n      <td>1.13300000</td>\n      <td>1.14100000</td>\n      <td>1.14100000</td>\n      <td>1.17500000</td>\n      <td>1.10400000</td>\n      <td>1.16500000</td>\n    </tr>\n    <tr>\n      <th>2</th>\n      <td>3160.51000000</td>\n      <td>3233.00000000</td>\n      <td>3051.22000000</td>\n      <td>3141.66000000</td>\n      <td>ETHUSDT</td>\n      <td>2021-08-11</td>\n      <td>3141.14000000</td>\n      <td>3274.00000000</td>\n      <td>3120.27000000</td>\n      <td>3160.50000000</td>\n      <td>...</td>\n      <td>3135.22000000</td>\n      <td>3146.53000000</td>\n      <td>3147.18000000</td>\n      <td>3290.00000000</td>\n      <td>2991.89000000</td>\n      <td>3011.72000000</td>\n      <td>3011.73000000</td>\n      <td>3125.81000000</td>\n      <td>2950.00000000</td>\n      <td>3014.55000000</td>\n    </tr>\n    <tr>\n      <th>3</th>\n      <td>3046.11000000</td>\n      <td>3327.83000000</td>\n      <td>3033.80000000</td>\n      <td>3322.32000000</td>\n      <td>ETHUSDT</td>\n      <td>2021-08-14</td>\n      <td>3322.33000000</td>\n      <td>3330.98000000</td>\n      <td>3200.00000000</td>\n      <td>3263.16000000</td>\n      <td>...</td>\n      <td>2958.33000000</td>\n      <td>3184.12000000</td>\n      <td>3184.11000000</td>\n      <td>3300.00000000</td>\n      <td>3177.16000000</td>\n      <td>3284.82000000</td>\n      <td>3284.81000000</td>\n      <td>3309.16000000</td>\n      <td>3207.00000000</td>\n      <td>3223.43000000</td>\n    </tr>\n    <tr>\n      <th>4</th>\n      <td>42836.87000000</td>\n      <td>44700.00000000</td>\n      <td>42446.41000000</td>\n      <td>44572.54000000</td>\n      <td>BTCUSDT</td>\n      <td>2021-08-08</td>\n      <td>44572.54000000</td>\n      <td>45310.00000000</td>\n      <td>43261.00000000</td>\n      <td>43794.37000000</td>\n      <td>...</td>\n      <td>44217.39000000</td>\n      <td>47800.00000000</td>\n      <td>47799.99000000</td>\n      <td>48144.00000000</td>\n      <td>45971.03000000</td>\n      <td>47068.51000000</td>\n      <td>47068.50000000</td>\n      <td>47372.27000000</td>\n      <td>45500.00000000</td>\n      <td>46973.82000000</td>\n    </tr>\n    <tr>\n      <th>5</th>\n      <td>NaN</td>\n      <td>NaN</td>\n      <td>NaN</td>\n      <td>NaN</td>\n      <td>HSRBTC</td>\n      <td>2021-02-04</td>\n      <td>NaN</td>\n      <td>NaN</td>\n      <td>NaN</td>\n      <td>NaN</td>\n      <td>...</td>\n      <td>NaN</td>\n      <td>NaN</td>\n      <td>NaN</td>\n      <td>NaN</td>\n      <td>NaN</td>\n      <td>NaN</td>\n      <td>NaN</td>\n      <td>NaN</td>\n      <td>NaN</td>\n      <td>NaN</td>\n    </tr>\n    <tr>\n      <th>6</th>\n      <td>NaN</td>\n      <td>NaN</td>\n      <td>NaN</td>\n      <td>NaN</td>\n      <td>OAXETH</td>\n      <td>2022-06-02</td>\n      <td>NaN</td>\n      <td>NaN</td>\n      <td>NaN</td>\n      <td>NaN</td>\n      <td>...</td>\n      <td>NaN</td>\n      <td>NaN</td>\n      <td>NaN</td>\n      <td>NaN</td>\n      <td>NaN</td>\n      <td>NaN</td>\n      <td>NaN</td>\n      <td>NaN</td>\n      <td>NaN</td>\n      <td>NaN</td>\n    </tr>\n    <tr>\n      <th>7</th>\n      <td>NaN</td>\n      <td>NaN</td>\n      <td>NaN</td>\n      <td>NaN</td>\n      <td>DNTETH</td>\n      <td>2021-06-07</td>\n      <td>NaN</td>\n      <td>NaN</td>\n      <td>NaN</td>\n      <td>NaN</td>\n      <td>...</td>\n      <td>NaN</td>\n      <td>NaN</td>\n      <td>NaN</td>\n      <td>NaN</td>\n      <td>NaN</td>\n      <td>NaN</td>\n      <td>NaN</td>\n      <td>NaN</td>\n      <td>NaN</td>\n      <td>NaN</td>\n    </tr>\n    <tr>\n      <th>8</th>\n      <td>NaN</td>\n      <td>NaN</td>\n      <td>NaN</td>\n      <td>NaN</td>\n      <td>MCOETH</td>\n      <td>2022-03-23</td>\n      <td>NaN</td>\n      <td>NaN</td>\n      <td>NaN</td>\n      <td>NaN</td>\n      <td>...</td>\n      <td>NaN</td>\n      <td>NaN</td>\n      <td>NaN</td>\n      <td>NaN</td>\n      <td>NaN</td>\n      <td>NaN</td>\n      <td>NaN</td>\n      <td>NaN</td>\n      <td>NaN</td>\n      <td>NaN</td>\n    </tr>\n    <tr>\n      <th>9</th>\n      <td>NaN</td>\n      <td>NaN</td>\n      <td>NaN</td>\n      <td>NaN</td>\n      <td>ICNETH</td>\n      <td>2021-08-08</td>\n      <td>NaN</td>\n      <td>NaN</td>\n      <td>NaN</td>\n      <td>NaN</td>\n      <td>...</td>\n      <td>NaN</td>\n      <td>NaN</td>\n      <td>NaN</td>\n      <td>NaN</td>\n      <td>NaN</td>\n      <td>NaN</td>\n      <td>NaN</td>\n      <td>NaN</td>\n      <td>NaN</td>\n      <td>NaN</td>\n    </tr>\n    <tr>\n      <th>10</th>\n      <td>NaN</td>\n      <td>NaN</td>\n      <td>NaN</td>\n      <td>NaN</td>\n      <td>MCOBTC</td>\n      <td>2021-08-08</td>\n      <td>NaN</td>\n      <td>NaN</td>\n      <td>NaN</td>\n      <td>NaN</td>\n      <td>...</td>\n      <td>NaN</td>\n      <td>NaN</td>\n      <td>NaN</td>\n      <td>NaN</td>\n      <td>NaN</td>\n      <td>NaN</td>\n      <td>NaN</td>\n      <td>NaN</td>\n      <td>NaN</td>\n      <td>NaN</td>\n    </tr>\n    <tr>\n      <th>11</th>\n      <td>0.00001050</td>\n      <td>0.00001170</td>\n      <td>0.00001020</td>\n      <td>0.00001150</td>\n      <td>WTCBTC</td>\n      <td>2021-02-04</td>\n      <td>0.00001140</td>\n      <td>0.00001330</td>\n      <td>0.00001050</td>\n      <td>0.00001190</td>\n      <td>...</td>\n      <td>0.00000970</td>\n      <td>0.00001330</td>\n      <td>0.00001340</td>\n      <td>0.00001470</td>\n      <td>0.00001160</td>\n      <td>0.00001340</td>\n      <td>0.00001340</td>\n      <td>0.00001660</td>\n      <td>0.00001300</td>\n      <td>0.00001520</td>\n    </tr>\n    <tr>\n      <th>12</th>\n      <td>NaN</td>\n      <td>NaN</td>\n      <td>NaN</td>\n      <td>NaN</td>\n      <td>WTCETH</td>\n      <td>2022-06-02</td>\n      <td>NaN</td>\n      <td>NaN</td>\n      <td>NaN</td>\n      <td>NaN</td>\n      <td>...</td>\n      <td>NaN</td>\n      <td>NaN</td>\n      <td>NaN</td>\n      <td>NaN</td>\n      <td>NaN</td>\n      <td>NaN</td>\n      <td>NaN</td>\n      <td>NaN</td>\n      <td>NaN</td>\n      <td>NaN</td>\n    </tr>\n    <tr>\n      <th>13</th>\n      <td>0.00000973</td>\n      <td>0.00001004</td>\n      <td>0.00000967</td>\n      <td>0.00000992</td>\n      <td>LRCBTC</td>\n      <td>2021-06-07</td>\n      <td>0.00000993</td>\n      <td>0.00001038</td>\n      <td>0.00000968</td>\n      <td>0.00000976</td>\n      <td>...</td>\n      <td>0.00000772</td>\n      <td>0.00000817</td>\n      <td>0.00000816</td>\n      <td>0.00000840</td>\n      <td>0.00000771</td>\n      <td>0.00000782</td>\n      <td>0.00000784</td>\n      <td>0.00000800</td>\n      <td>0.00000754</td>\n      <td>0.00000773</td>\n    </tr>\n    <tr>\n      <th>14</th>\n      <td>0.00027892</td>\n      <td>0.00028249</td>\n      <td>0.00027016</td>\n      <td>0.00027217</td>\n      <td>LRCETH</td>\n      <td>2022-03-23</td>\n      <td>0.00027259</td>\n      <td>0.00041659</td>\n      <td>0.00027259</td>\n      <td>0.00038560</td>\n      <td>...</td>\n      <td>0.00032710</td>\n      <td>0.00033839</td>\n      <td>0.00033859</td>\n      <td>0.00039889</td>\n      <td>0.00033700</td>\n      <td>0.00037810</td>\n      <td>0.00037742</td>\n      <td>0.00039211</td>\n      <td>0.00036000</td>\n      <td>0.00037477</td>\n    </tr>\n    <tr>\n      <th>15</th>\n      <td>0.00020400</td>\n      <td>0.00026200</td>\n      <td>0.00020050</td>\n      <td>0.00024460</td>\n      <td>QTUMBTC</td>\n      <td>2021-08-08</td>\n      <td>0.00024450</td>\n      <td>0.00026170</td>\n      <td>0.00022940</td>\n      <td>0.00023400</td>\n      <td>...</td>\n      <td>0.00022850</td>\n      <td>0.00029260</td>\n      <td>0.00029240</td>\n      <td>0.00031970</td>\n      <td>0.00029240</td>\n      <td>0.00029970</td>\n      <td>0.00029960</td>\n      <td>0.00029970</td>\n      <td>0.00028210</td>\n      <td>0.00029320</td>\n    </tr>\n    <tr>\n      <th>16</th>\n      <td>0.00000038</td>\n      <td>0.00000039</td>\n      <td>0.00000034</td>\n      <td>0.00000035</td>\n      <td>YOYOBTC</td>\n      <td>2021-08-08</td>\n      <td>0.00000036</td>\n      <td>0.00000038</td>\n      <td>0.00000032</td>\n      <td>0.00000033</td>\n      <td>...</td>\n      <td>0.00000051</td>\n      <td>0.00000055</td>\n      <td>0.00000054</td>\n      <td>0.00000060</td>\n      <td>0.00000051</td>\n      <td>0.00000053</td>\n      <td>0.00000053</td>\n      <td>0.00000063</td>\n      <td>0.00000051</td>\n      <td>0.00000056</td>\n    </tr>\n    <tr>\n      <th>17</th>\n      <td>0.00011150</td>\n      <td>0.00012850</td>\n      <td>0.00010640</td>\n      <td>0.00012310</td>\n      <td>OMGBTC</td>\n      <td>2021-02-04</td>\n      <td>0.00012310</td>\n      <td>0.00012350</td>\n      <td>0.00011110</td>\n      <td>0.00012020</td>\n      <td>...</td>\n      <td>0.00010000</td>\n      <td>0.00011000</td>\n      <td>0.00011020</td>\n      <td>0.00012750</td>\n      <td>0.00010860</td>\n      <td>0.00012460</td>\n      <td>0.00012440</td>\n      <td>0.00013840</td>\n      <td>0.00012030</td>\n      <td>0.00012400</td>\n    </tr>\n    <tr>\n      <th>18</th>\n      <td>NaN</td>\n      <td>NaN</td>\n      <td>NaN</td>\n      <td>NaN</td>\n      <td>SNXETH</td>\n      <td>2022-06-02</td>\n      <td>NaN</td>\n      <td>NaN</td>\n      <td>NaN</td>\n      <td>NaN</td>\n      <td>...</td>\n      <td>NaN</td>\n      <td>NaN</td>\n      <td>NaN</td>\n      <td>NaN</td>\n      <td>NaN</td>\n      <td>NaN</td>\n      <td>NaN</td>\n      <td>NaN</td>\n      <td>NaN</td>\n      <td>NaN</td>\n    </tr>\n    <tr>\n      <th>19</th>\n      <td>NaN</td>\n      <td>NaN</td>\n      <td>NaN</td>\n      <td>NaN</td>\n      <td>WBTCBUSD</td>\n      <td>2021-06-07</td>\n      <td>NaN</td>\n      <td>NaN</td>\n      <td>NaN</td>\n      <td>NaN</td>\n      <td>...</td>\n      <td>NaN</td>\n      <td>NaN</td>\n      <td>NaN</td>\n      <td>NaN</td>\n      <td>NaN</td>\n      <td>NaN</td>\n      <td>NaN</td>\n      <td>NaN</td>\n      <td>NaN</td>\n      <td>NaN</td>\n    </tr>\n    <tr>\n      <th>20</th>\n      <td>NaN</td>\n      <td>NaN</td>\n      <td>NaN</td>\n      <td>NaN</td>\n      <td>BELETH</td>\n      <td>2022-03-23</td>\n      <td>NaN</td>\n      <td>NaN</td>\n      <td>NaN</td>\n      <td>NaN</td>\n      <td>...</td>\n      <td>NaN</td>\n      <td>NaN</td>\n      <td>NaN</td>\n      <td>NaN</td>\n      <td>NaN</td>\n      <td>NaN</td>\n      <td>NaN</td>\n      <td>NaN</td>\n      <td>NaN</td>\n      <td>NaN</td>\n    </tr>\n    <tr>\n      <th>21</th>\n      <td>NaN</td>\n      <td>NaN</td>\n      <td>NaN</td>\n      <td>NaN</td>\n      <td>LITETH</td>\n      <td>2021-08-08</td>\n      <td>NaN</td>\n      <td>NaN</td>\n      <td>NaN</td>\n      <td>NaN</td>\n      <td>...</td>\n      <td>NaN</td>\n      <td>NaN</td>\n      <td>NaN</td>\n      <td>NaN</td>\n      <td>NaN</td>\n      <td>NaN</td>\n      <td>NaN</td>\n      <td>NaN</td>\n      <td>NaN</td>\n      <td>NaN</td>\n    </tr>\n    <tr>\n      <th>22</th>\n      <td>NaN</td>\n      <td>NaN</td>\n      <td>NaN</td>\n      <td>NaN</td>\n      <td>LEVERUSDT</td>\n      <td>2021-08-08</td>\n      <td>NaN</td>\n      <td>NaN</td>\n      <td>NaN</td>\n      <td>NaN</td>\n      <td>...</td>\n      <td>NaN</td>\n      <td>NaN</td>\n      <td>NaN</td>\n      <td>NaN</td>\n      <td>NaN</td>\n      <td>NaN</td>\n      <td>NaN</td>\n      <td>NaN</td>\n      <td>NaN</td>\n      <td>NaN</td>\n    </tr>\n    <tr>\n      <th>23</th>\n      <td>NaN</td>\n      <td>NaN</td>\n      <td>NaN</td>\n      <td>NaN</td>\n      <td>LEVERBUSD</td>\n      <td>2021-02-04</td>\n      <td>NaN</td>\n      <td>NaN</td>\n      <td>NaN</td>\n      <td>NaN</td>\n      <td>...</td>\n      <td>NaN</td>\n      <td>NaN</td>\n      <td>NaN</td>\n      <td>NaN</td>\n      <td>NaN</td>\n      <td>NaN</td>\n      <td>NaN</td>\n      <td>NaN</td>\n      <td>NaN</td>\n      <td>NaN</td>\n    </tr>\n    <tr>\n      <th>24</th>\n      <td>NaN</td>\n      <td>NaN</td>\n      <td>NaN</td>\n      <td>NaN</td>\n      <td>BURGERETH</td>\n      <td>2022-06-02</td>\n      <td>NaN</td>\n      <td>NaN</td>\n      <td>NaN</td>\n      <td>NaN</td>\n      <td>...</td>\n      <td>NaN</td>\n      <td>NaN</td>\n      <td>NaN</td>\n      <td>NaN</td>\n      <td>NaN</td>\n      <td>NaN</td>\n      <td>NaN</td>\n      <td>NaN</td>\n      <td>NaN</td>\n      <td>NaN</td>\n    </tr>\n    <tr>\n      <th>25</th>\n      <td>NaN</td>\n      <td>NaN</td>\n      <td>NaN</td>\n      <td>NaN</td>\n      <td>PEOPLEETH</td>\n      <td>2021-06-07</td>\n      <td>NaN</td>\n      <td>NaN</td>\n      <td>NaN</td>\n      <td>NaN</td>\n      <td>...</td>\n      <td>NaN</td>\n      <td>NaN</td>\n      <td>NaN</td>\n      <td>NaN</td>\n      <td>NaN</td>\n      <td>NaN</td>\n      <td>NaN</td>\n      <td>NaN</td>\n      <td>NaN</td>\n      <td>NaN</td>\n    </tr>\n    <tr>\n      <th>26</th>\n      <td>NaN</td>\n      <td>NaN</td>\n      <td>NaN</td>\n      <td>NaN</td>\n      <td>UNFIETH</td>\n      <td>2022-03-23</td>\n      <td>NaN</td>\n      <td>NaN</td>\n      <td>NaN</td>\n      <td>NaN</td>\n      <td>...</td>\n      <td>NaN</td>\n      <td>NaN</td>\n      <td>NaN</td>\n      <td>NaN</td>\n      <td>NaN</td>\n      <td>NaN</td>\n      <td>NaN</td>\n      <td>NaN</td>\n      <td>NaN</td>\n      <td>NaN</td>\n    </tr>\n    <tr>\n      <th>27</th>\n      <td>NaN</td>\n      <td>NaN</td>\n      <td>NaN</td>\n      <td>NaN</td>\n      <td>BONDETH</td>\n      <td>2021-08-08</td>\n      <td>NaN</td>\n      <td>NaN</td>\n      <td>NaN</td>\n      <td>NaN</td>\n      <td>...</td>\n      <td>NaN</td>\n      <td>NaN</td>\n      <td>NaN</td>\n      <td>NaN</td>\n      <td>NaN</td>\n      <td>NaN</td>\n      <td>NaN</td>\n      <td>NaN</td>\n      <td>NaN</td>\n      <td>NaN</td>\n    </tr>\n    <tr>\n      <th>28</th>\n      <td>NaN</td>\n      <td>NaN</td>\n      <td>NaN</td>\n      <td>NaN</td>\n      <td>STORJTRY</td>\n      <td>2021-08-08</td>\n      <td>NaN</td>\n      <td>NaN</td>\n      <td>NaN</td>\n      <td>NaN</td>\n      <td>...</td>\n      <td>NaN</td>\n      <td>NaN</td>\n      <td>NaN</td>\n      <td>NaN</td>\n      <td>NaN</td>\n      <td>NaN</td>\n      <td>NaN</td>\n      <td>NaN</td>\n      <td>NaN</td>\n      <td>NaN</td>\n    </tr>\n    <tr>\n      <th>29</th>\n      <td>NaN</td>\n      <td>NaN</td>\n      <td>NaN</td>\n      <td>NaN</td>\n      <td>OPETH</td>\n      <td>2022-06-02</td>\n      <td>NaN</td>\n      <td>NaN</td>\n      <td>NaN</td>\n      <td>NaN</td>\n      <td>...</td>\n      <td>NaN</td>\n      <td>NaN</td>\n      <td>NaN</td>\n      <td>NaN</td>\n      <td>NaN</td>\n      <td>NaN</td>\n      <td>NaN</td>\n      <td>NaN</td>\n      <td>NaN</td>\n      <td>NaN</td>\n    </tr>\n    <tr>\n      <th>30</th>\n      <td>NaN</td>\n      <td>NaN</td>\n      <td>NaN</td>\n      <td>NaN</td>\n      <td>ETCTRY</td>\n      <td>2021-06-07</td>\n      <td>NaN</td>\n      <td>NaN</td>\n      <td>NaN</td>\n      <td>NaN</td>\n      <td>...</td>\n      <td>NaN</td>\n      <td>NaN</td>\n      <td>NaN</td>\n      <td>NaN</td>\n      <td>NaN</td>\n      <td>NaN</td>\n      <td>NaN</td>\n      <td>NaN</td>\n      <td>NaN</td>\n      <td>NaN</td>\n    </tr>\n    <tr>\n      <th>31</th>\n      <td>NaN</td>\n      <td>NaN</td>\n      <td>NaN</td>\n      <td>NaN</td>\n      <td>WINGETH</td>\n      <td>2022-03-23</td>\n      <td>NaN</td>\n      <td>NaN</td>\n      <td>NaN</td>\n      <td>NaN</td>\n      <td>...</td>\n      <td>NaN</td>\n      <td>NaN</td>\n      <td>NaN</td>\n      <td>NaN</td>\n      <td>NaN</td>\n      <td>NaN</td>\n      <td>NaN</td>\n      <td>NaN</td>\n      <td>NaN</td>\n      <td>NaN</td>\n    </tr>\n    <tr>\n      <th>32</th>\n      <td>NaN</td>\n      <td>NaN</td>\n      <td>NaN</td>\n      <td>NaN</td>\n      <td>FILETH</td>\n      <td>2021-08-08</td>\n      <td>NaN</td>\n      <td>NaN</td>\n      <td>NaN</td>\n      <td>NaN</td>\n      <td>...</td>\n      <td>NaN</td>\n      <td>NaN</td>\n      <td>NaN</td>\n      <td>NaN</td>\n      <td>NaN</td>\n      <td>NaN</td>\n      <td>NaN</td>\n      <td>NaN</td>\n      <td>NaN</td>\n      <td>NaN</td>\n    </tr>\n    <tr>\n      <th>33</th>\n      <td>NaN</td>\n      <td>NaN</td>\n      <td>NaN</td>\n      <td>NaN</td>\n      <td>GLMBUSD</td>\n      <td>2021-08-08</td>\n      <td>NaN</td>\n      <td>NaN</td>\n      <td>NaN</td>\n      <td>NaN</td>\n      <td>...</td>\n      <td>NaN</td>\n      <td>NaN</td>\n      <td>NaN</td>\n      <td>NaN</td>\n      <td>NaN</td>\n      <td>NaN</td>\n      <td>NaN</td>\n      <td>NaN</td>\n      <td>NaN</td>\n      <td>NaN</td>\n    </tr>\n    <tr>\n      <th>34</th>\n      <td>NaN</td>\n      <td>NaN</td>\n      <td>NaN</td>\n      <td>NaN</td>\n      <td>SSVBUSD</td>\n      <td>2021-02-04</td>\n      <td>NaN</td>\n      <td>NaN</td>\n      <td>NaN</td>\n      <td>NaN</td>\n      <td>...</td>\n      <td>NaN</td>\n      <td>NaN</td>\n      <td>NaN</td>\n      <td>NaN</td>\n      <td>NaN</td>\n      <td>NaN</td>\n      <td>NaN</td>\n      <td>NaN</td>\n      <td>NaN</td>\n      <td>NaN</td>\n    </tr>\n    <tr>\n      <th>35</th>\n      <td>NaN</td>\n      <td>NaN</td>\n      <td>NaN</td>\n      <td>NaN</td>\n      <td>STGBTC</td>\n      <td>2022-06-02</td>\n      <td>NaN</td>\n      <td>NaN</td>\n      <td>NaN</td>\n      <td>NaN</td>\n      <td>...</td>\n      <td>NaN</td>\n      <td>NaN</td>\n      <td>NaN</td>\n      <td>NaN</td>\n      <td>NaN</td>\n      <td>NaN</td>\n      <td>NaN</td>\n      <td>NaN</td>\n      <td>NaN</td>\n      <td>NaN</td>\n    </tr>\n    <tr>\n      <th>36</th>\n      <td>NaN</td>\n      <td>NaN</td>\n      <td>NaN</td>\n      <td>NaN</td>\n      <td>STGBUSD</td>\n      <td>2021-06-07</td>\n      <td>NaN</td>\n      <td>NaN</td>\n      <td>NaN</td>\n      <td>NaN</td>\n      <td>...</td>\n      <td>NaN</td>\n      <td>NaN</td>\n      <td>NaN</td>\n      <td>NaN</td>\n      <td>NaN</td>\n      <td>NaN</td>\n      <td>NaN</td>\n      <td>NaN</td>\n      <td>NaN</td>\n      <td>NaN</td>\n    </tr>\n    <tr>\n      <th>37</th>\n      <td>NaN</td>\n      <td>NaN</td>\n      <td>NaN</td>\n      <td>NaN</td>\n      <td>STGUSDT</td>\n      <td>2022-03-23</td>\n      <td>NaN</td>\n      <td>NaN</td>\n      <td>NaN</td>\n      <td>NaN</td>\n      <td>...</td>\n      <td>NaN</td>\n      <td>NaN</td>\n      <td>NaN</td>\n      <td>NaN</td>\n      <td>NaN</td>\n      <td>NaN</td>\n      <td>NaN</td>\n      <td>NaN</td>\n      <td>NaN</td>\n      <td>NaN</td>\n    </tr>\n    <tr>\n      <th>38</th>\n      <td>NaN</td>\n      <td>NaN</td>\n      <td>NaN</td>\n      <td>NaN</td>\n      <td>ANKRTRY</td>\n      <td>2021-08-08</td>\n      <td>NaN</td>\n      <td>NaN</td>\n      <td>NaN</td>\n      <td>NaN</td>\n      <td>...</td>\n      <td>NaN</td>\n      <td>NaN</td>\n      <td>NaN</td>\n      <td>NaN</td>\n      <td>NaN</td>\n      <td>NaN</td>\n      <td>NaN</td>\n      <td>NaN</td>\n      <td>NaN</td>\n      <td>NaN</td>\n    </tr>\n    <tr>\n      <th>39</th>\n      <td>NaN</td>\n      <td>NaN</td>\n      <td>NaN</td>\n      <td>NaN</td>\n      <td>ARKBUSD</td>\n      <td>2021-08-08</td>\n      <td>NaN</td>\n      <td>NaN</td>\n      <td>NaN</td>\n      <td>NaN</td>\n      <td>...</td>\n      <td>NaN</td>\n      <td>NaN</td>\n      <td>NaN</td>\n      <td>NaN</td>\n      <td>NaN</td>\n      <td>NaN</td>\n      <td>NaN</td>\n      <td>NaN</td>\n      <td>NaN</td>\n      <td>NaN</td>\n    </tr>\n    <tr>\n      <th>40</th>\n      <td>NaN</td>\n      <td>NaN</td>\n      <td>NaN</td>\n      <td>NaN</td>\n      <td>BETHBUSD</td>\n      <td>2021-02-04</td>\n      <td>NaN</td>\n      <td>NaN</td>\n      <td>NaN</td>\n      <td>NaN</td>\n      <td>...</td>\n      <td>NaN</td>\n      <td>NaN</td>\n      <td>NaN</td>\n      <td>NaN</td>\n      <td>NaN</td>\n      <td>NaN</td>\n      <td>NaN</td>\n      <td>NaN</td>\n      <td>NaN</td>\n      <td>NaN</td>\n    </tr>\n    <tr>\n      <th>41</th>\n      <td>NaN</td>\n      <td>NaN</td>\n      <td>NaN</td>\n      <td>NaN</td>\n      <td>LOOMBUSD</td>\n      <td>2022-06-02</td>\n      <td>NaN</td>\n      <td>NaN</td>\n      <td>NaN</td>\n      <td>NaN</td>\n      <td>...</td>\n      <td>NaN</td>\n      <td>NaN</td>\n      <td>NaN</td>\n      <td>NaN</td>\n      <td>NaN</td>\n      <td>NaN</td>\n      <td>NaN</td>\n      <td>NaN</td>\n      <td>NaN</td>\n      <td>NaN</td>\n    </tr>\n    <tr>\n      <th>42</th>\n      <td>NaN</td>\n      <td>NaN</td>\n      <td>NaN</td>\n      <td>NaN</td>\n      <td>SNMBUSD</td>\n      <td>2021-06-07</td>\n      <td>NaN</td>\n      <td>NaN</td>\n      <td>NaN</td>\n      <td>NaN</td>\n      <td>...</td>\n      <td>NaN</td>\n      <td>NaN</td>\n      <td>NaN</td>\n      <td>NaN</td>\n      <td>NaN</td>\n      <td>NaN</td>\n      <td>NaN</td>\n      <td>NaN</td>\n      <td>NaN</td>\n      <td>NaN</td>\n    </tr>\n    <tr>\n      <th>43</th>\n      <td>NaN</td>\n      <td>NaN</td>\n      <td>NaN</td>\n      <td>NaN</td>\n      <td>AMBBUSD</td>\n      <td>2022-03-23</td>\n      <td>NaN</td>\n      <td>NaN</td>\n      <td>NaN</td>\n      <td>NaN</td>\n      <td>...</td>\n      <td>NaN</td>\n      <td>NaN</td>\n      <td>NaN</td>\n      <td>NaN</td>\n      <td>NaN</td>\n      <td>NaN</td>\n      <td>NaN</td>\n      <td>NaN</td>\n      <td>NaN</td>\n      <td>NaN</td>\n    </tr>\n    <tr>\n      <th>44</th>\n      <td>NaN</td>\n      <td>NaN</td>\n      <td>NaN</td>\n      <td>NaN</td>\n      <td>LUNCUSDT</td>\n      <td>2021-08-08</td>\n      <td>NaN</td>\n      <td>NaN</td>\n      <td>NaN</td>\n      <td>NaN</td>\n      <td>...</td>\n      <td>NaN</td>\n      <td>NaN</td>\n      <td>NaN</td>\n      <td>NaN</td>\n      <td>NaN</td>\n      <td>NaN</td>\n      <td>NaN</td>\n      <td>NaN</td>\n      <td>NaN</td>\n      <td>NaN</td>\n    </tr>\n    <tr>\n      <th>45</th>\n      <td>NaN</td>\n      <td>NaN</td>\n      <td>NaN</td>\n      <td>NaN</td>\n      <td>PHBBUSD</td>\n      <td>2021-08-08</td>\n      <td>NaN</td>\n      <td>NaN</td>\n      <td>NaN</td>\n      <td>NaN</td>\n      <td>...</td>\n      <td>NaN</td>\n      <td>NaN</td>\n      <td>NaN</td>\n      <td>NaN</td>\n      <td>NaN</td>\n      <td>NaN</td>\n      <td>NaN</td>\n      <td>NaN</td>\n      <td>NaN</td>\n      <td>NaN</td>\n    </tr>\n    <tr>\n      <th>46</th>\n      <td>NaN</td>\n      <td>NaN</td>\n      <td>NaN</td>\n      <td>NaN</td>\n      <td>GASBUSD</td>\n      <td>2021-02-04</td>\n      <td>NaN</td>\n      <td>NaN</td>\n      <td>NaN</td>\n      <td>NaN</td>\n      <td>...</td>\n      <td>NaN</td>\n      <td>NaN</td>\n      <td>NaN</td>\n      <td>NaN</td>\n      <td>NaN</td>\n      <td>NaN</td>\n      <td>NaN</td>\n      <td>NaN</td>\n      <td>NaN</td>\n      <td>NaN</td>\n    </tr>\n    <tr>\n      <th>47</th>\n      <td>NaN</td>\n      <td>NaN</td>\n      <td>NaN</td>\n      <td>NaN</td>\n      <td>NEBLBUSD</td>\n      <td>2022-06-02</td>\n      <td>NaN</td>\n      <td>NaN</td>\n      <td>NaN</td>\n      <td>NaN</td>\n      <td>...</td>\n      <td>NaN</td>\n      <td>NaN</td>\n      <td>NaN</td>\n      <td>NaN</td>\n      <td>NaN</td>\n      <td>NaN</td>\n      <td>NaN</td>\n      <td>NaN</td>\n      <td>NaN</td>\n      <td>NaN</td>\n    </tr>\n    <tr>\n      <th>48</th>\n      <td>NaN</td>\n      <td>NaN</td>\n      <td>NaN</td>\n      <td>NaN</td>\n      <td>PROSBUSD</td>\n      <td>2021-06-07</td>\n      <td>NaN</td>\n      <td>NaN</td>\n      <td>NaN</td>\n      <td>NaN</td>\n      <td>...</td>\n      <td>NaN</td>\n      <td>NaN</td>\n      <td>NaN</td>\n      <td>NaN</td>\n      <td>NaN</td>\n      <td>NaN</td>\n      <td>NaN</td>\n      <td>NaN</td>\n      <td>NaN</td>\n      <td>NaN</td>\n    </tr>\n    <tr>\n      <th>49</th>\n      <td>NaN</td>\n      <td>NaN</td>\n      <td>NaN</td>\n      <td>NaN</td>\n      <td>VIBBUSD</td>\n      <td>2022-03-23</td>\n      <td>NaN</td>\n      <td>NaN</td>\n      <td>NaN</td>\n      <td>NaN</td>\n      <td>...</td>\n      <td>NaN</td>\n      <td>NaN</td>\n      <td>NaN</td>\n      <td>NaN</td>\n      <td>NaN</td>\n      <td>NaN</td>\n      <td>NaN</td>\n      <td>NaN</td>\n      <td>NaN</td>\n      <td>NaN</td>\n    </tr>\n  </tbody>\n</table>\n<p>50 rows × 38 columns</p>\n</div>"
     },
     "execution_count": 14,
     "metadata": {},
     "output_type": "execute_result"
    }
   ],
   "source": [
    "def final_frame():\n",
    "    final_df = pd.concat([yesterday_df,\n",
    "                          input_df[['coin', 'date']],\n",
    "                          day0_df,\n",
    "                          day1_df,\n",
    "                          day2_df,\n",
    "                          day3_df,\n",
    "                          day4_df,\n",
    "                          day5_df,\n",
    "                          day6_df,\n",
    "                          day7_df], axis=1, ignore_index=True)\n",
    "\n",
    "    # Renaming the columns\n",
    "    final_df.columns = (['Open', 'High', 'Low', 'Close',\n",
    "                         'coin', 'date',\n",
    "                         'Open0', 'High0', 'Low0', 'Close0',\n",
    "                         'Open1', 'High1', 'Low1', 'Close1',\n",
    "                         'Open2', 'High2', 'Low2', 'Close2',\n",
    "                         'Open3', 'High3', 'Low3', 'Close3',\n",
    "                         'Open4', 'High4', 'Low4', 'Close4',\n",
    "                         'Open5', 'High5', 'Low5', 'Close5',\n",
    "                         'Open6', 'High6', 'Low6', 'Close6',\n",
    "                         'Open7', 'High7', 'Low7', 'Close7'])\n",
    "    return final_df\n",
    "\n",
    "final_df = final_frame()\n",
    "final_df.info()\n",
    "final_df"
   ],
   "metadata": {
    "collapsed": false,
    "pycharm": {
     "name": "#%%\n"
    }
   }
  },
  {
   "cell_type": "code",
   "execution_count": 15,
   "outputs": [],
   "source": [
    "# def merge_data():\n",
    "#     # merge crypto data with input data\n",
    "#     df1 = pd.merge(left=input_df,right=hist_df, left_on=['coin', 'date'], right_on=['symbol', 'opentime'], how='left')\n",
    "#     df2 = pd.merge(left=df1, right=hist_df, left_on=['coin', 'Yesterday'], right_on=['symbol', 'opentime'], how='left',                               suffixes=['_day0', '_yesterday'])\n",
    "#     df3 = pd.merge(left=df2,right=hist_df, left_on=['coin', 'day 1'], right_on=['symbol', 'opentime'], how='left')\n",
    "#     df4 = pd.merge(left=df3,right=hist_df, left_on=['coin', 'day 2'], right_on=['symbol', 'opentime'], how='left',\n",
    "#                    suffixes=['_day1', '_day2'])\n",
    "#     df5 = pd.merge(left=df4,right=hist_df, left_on=['coin', 'day 3'], right_on=['symbol', 'opentime'], how='left')\n",
    "#     df6 = pd.merge(left=df5,right=hist_df, left_on=['coin', 'day 4'], right_on=['symbol', 'opentime'], how='left',\n",
    "#                    suffixes=['_day3', '_day4'])\n",
    "#     df7 = pd.merge(left=df6,right=hist_df, left_on=['coin', 'day 5'], right_on=['symbol', 'opentime'], how='left')\n",
    "#     df8 = pd.merge(left=df7,right=hist_df, left_on=['coin', 'day 6'], right_on=['symbol', 'opentime'], how='left',\n",
    "#                    suffixes=['_day5', '_day6'])\n",
    "#     gc.collect()\n",
    "#     df9 = pd.merge(left=df8,right=hist_df, left_on=['coin', 'day 7'], right_on=['symbol', 'opentime'], how='left')\n",
    "#\n",
    "#     # df9 = df9.drop(columns=['symbol_day0', 'opentime_day0', 'symbol_yesterday', 'opentime_yesterday', 'symbol_day1',\n",
    "#     #                   'opentime_day1', 'symbol_day2', 'opentime_day2', 'symbol_day3', 'opentime_day3',\n",
    "#     #                   'symbol_day4', 'opentime_day4', 'symbol_day5', 'opentime_day5', 'symbol_day6',\n",
    "#     #                   'opentime_day6', 'symbol', 'opentime'])\n",
    "#\n",
    "#     # rearranging the order of columns and calling only the necessary columns\n",
    "#     df9 = df9[[ 'Open_yesterday', 'High_yesterday', 'Low_yesterday', 'Close_yesterday',\n",
    "#                 'coin','date', 'Open_day0', 'High_day0', 'Low_day0', 'Close_day0',\n",
    "#                 'Open_day1', 'High_day1', 'Low_day1', 'Close_day1',\n",
    "#                 'Open_day2', 'High_day2', 'Low_day2', 'Close_day2',\n",
    "#                 'Open_day3', 'High_day3', 'Low_day3', 'Close_day3',\n",
    "#                 'Open_day4', 'High_day4', 'Low_day4', 'Close_day4',\n",
    "#                 'Open_day5', 'High_day5', 'Low_day5', 'Close_day5',\n",
    "#                 'Open_day6', 'High_day6', 'Low_day6', 'Close_day6',\n",
    "#                 'Open', 'High', 'Low', 'Close']]\n",
    "#     return df9\n",
    "#\n",
    "# final_df = merge_data()\n",
    "# final"
   ],
   "metadata": {
    "collapsed": false,
    "pycharm": {
     "name": "#%%\n"
    }
   }
  },
  {
   "cell_type": "code",
   "execution_count": 16,
   "outputs": [],
   "source": [
    "def save_to_excel():\n",
    "    with xw.App(visible=False) as app:\n",
    "        wb = app.books.open('Crypto_Tracker.xlsx')\n",
    "\n",
    "        wb.sheets('CryptoTracker').range('A3').value = final_df\n",
    "        wb.sheets['CryptoTracker'].range('3:3').delete()\n",
    "        wb.save(\"C:\\Abdul\\My Document\\Fiverr\\Projects\\Cryptocurrency Tracker\\Excel_Automation/CryptoTracker.xlsx\")\n",
    "\n",
    "save_to_excel()"
   ],
   "metadata": {
    "collapsed": false,
    "pycharm": {
     "name": "#%%\n"
    }
   }
  },
  {
   "cell_type": "code",
   "execution_count": 17,
   "outputs": [],
   "source": [
    "# output_file = \"\"\"C:\\Abdul\\My Document\\Fiverr\\Projects/test.xlsx\"\"\"\n",
    "# with pd.ExcelWriter(output_file, engine='xlsxwriter') as writer:\n",
    "#     # convert the df to xlsxwriter object\n",
    "#     final_df.to_excel(writer, sheet_name='CryptoTracker')\n",
    "#\n",
    "#     # Add document properties\n",
    "#     workbook = writer.book\n",
    "#     workbook.set_properties(\n",
    "#         {\n",
    "#             'title': 'Crypto Tracker',\n",
    "#             'subject': 'Crypto prices for previous and past days',\n",
    "#             'author': 'Roshan from Avion Analytics',\n",
    "#             'Manager': 'None',\n",
    "#             'company': 'Avion Analytics',\n",
    "#             'category': 'cryptocurrency',\n",
    "#             'keywords': 'Pandas, XlsxWriter',\n",
    "#             'comment': 'If you need further improvements or software developments search for us online',\n",
    "#             'status': 'Final',\n",
    "#         }\n",
    "#     )"
   ],
   "metadata": {
    "collapsed": false,
    "pycharm": {
     "name": "#%%\n"
    }
   }
  },
  {
   "cell_type": "code",
   "execution_count": 17,
   "outputs": [],
   "source": [],
   "metadata": {
    "collapsed": false,
    "pycharm": {
     "name": "#%%\n"
    }
   }
  },
  {
   "cell_type": "markdown",
   "source": [
    "<h5>TEST</h5>"
   ],
   "metadata": {
    "collapsed": false,
    "pycharm": {
     "name": "#%% md\n"
    }
   }
  },
  {
   "cell_type": "code",
   "execution_count": 18,
   "outputs": [],
   "source": [
    "# url = 'https://api.binance.com'\n",
    "#\n",
    "# symbol = 'btcusdt'\n",
    "# interval = '1d'\n",
    "# startTime = str(int(dt.datetime(2020,5,1).timestamp() * 1000))\n",
    "# endTime = str(int(dt.datetime(2020,6,1).timestamp() * 1000))\n",
    "# limit = '100'\n",
    "#\n",
    "# req_params = {'symbol': symbol, 'interval': interval, 'startTime': startTime, 'endTime': endTime}\n",
    "#\n",
    "# response = requests.get(url, params= req_params)"
   ],
   "metadata": {
    "collapsed": false,
    "pycharm": {
     "name": "#%%\n"
    }
   }
  },
  {
   "cell_type": "code",
   "execution_count": 19,
   "outputs": [],
   "source": [
    "# history_df['opentime'] = [dt.datetime.fromtimestamp(x/ 1000.0) for x in history_df.opentime]\n",
    "\n",
    "# history_df['opentime'] = pd.to_datetime(history_df['opentime']/1000, unit='s')\n",
    "# history_df['Close time'] = pd.to_datetime(history_df['Close time']/1000,unit='s')\n",
    "# history_df['open_time'] = history_df['open time'] // (24 * 3600)\n",
    "\n",
    "\n",
    "# for i, row in history_df.iterrows():\n",
    "#     index = history_df.loc[i]\n",
    "#     history_df[i, 'open time'] = dt.datetime.fromtimestamp(index['open time'] / 1e3)"
   ],
   "metadata": {
    "collapsed": false,
    "pycharm": {
     "name": "#%%\n"
    }
   }
  },
  {
   "cell_type": "code",
   "execution_count": 20,
   "outputs": [],
   "source": [
    "# tickers = client.get_all_tickers()\n",
    "# ticker_df = pd.DataFrame(tickers)\n",
    "# ticker_df"
   ],
   "metadata": {
    "collapsed": false,
    "pycharm": {
     "name": "#%%\n"
    }
   }
  },
  {
   "cell_type": "code",
   "execution_count": 21,
   "outputs": [],
   "source": [
    "# ticker_df.to_excel(\"C:\\Abdul\\My Document\\Fiverr\\Projects\\Cryptocurrency Tracker\\Excel_Automation/All_Coins.xlsx\")"
   ],
   "metadata": {
    "collapsed": false,
    "pycharm": {
     "name": "#%%\n"
    }
   }
  },
  {
   "cell_type": "code",
   "execution_count": 22,
   "outputs": [],
   "source": [
    "# crypto_df = pd.DataFrame(tickers)\n",
    "# crypto_df.head()"
   ],
   "metadata": {
    "collapsed": false,
    "pycharm": {
     "name": "#%%\n"
    }
   }
  },
  {
   "cell_type": "code",
   "execution_count": 23,
   "outputs": [],
   "source": [
    "# startTime = str(int(dt.datetime(2020,5,1).timestamp() * 1000))\n",
    "# endTime = str(int(dt.datetime(2020,5,2).timestamp() * 1000))\n",
    "# historical = client.get_historical_klines('BTCUSDT',\n",
    "#                                           interval='1d',\n",
    "#                                           start_str=startTime,\n",
    "#                                           end_str=endTime)"
   ],
   "metadata": {
    "collapsed": false,
    "pycharm": {
     "name": "#%%\n"
    }
   }
  },
  {
   "cell_type": "code",
   "execution_count": 24,
   "outputs": [],
   "source": [
    "# historical_df = pd.DataFrame(historical)\n",
    "# historical_df"
   ],
   "metadata": {
    "collapsed": false,
    "pycharm": {
     "name": "#%%\n"
    }
   }
  },
  {
   "cell_type": "code",
   "execution_count": 25,
   "outputs": [],
   "source": [
    "# historical_df.columns = (['open time',\n",
    "#                          'Open',\n",
    "#                          'High',\n",
    "#                          'Low',\n",
    "#                          'Close',\n",
    "#                          'Volume',\n",
    "#                          'Close time',\n",
    "#                          'Quote asset volume',\n",
    "#                          'Number of trades',\n",
    "#                          'Taker buy base asset volume',\n",
    "#                          'Taker buy quote asset volume',\n",
    "#                          'Unused field, ignore.'])\n",
    "# historical_df.head()"
   ],
   "metadata": {
    "collapsed": false,
    "pycharm": {
     "name": "#%%\n"
    }
   }
  },
  {
   "cell_type": "code",
   "execution_count": 26,
   "outputs": [],
   "source": [
    "# historical_df.dtypes"
   ],
   "metadata": {
    "collapsed": false,
    "pycharm": {
     "name": "#%%\n"
    }
   }
  },
  {
   "cell_type": "code",
   "execution_count": 27,
   "outputs": [],
   "source": [
    "# historical_df['open time'] = pd.to_datetime(historical_df['open time']/1000,unit='s')\n",
    "# historical_df['Close time'] = pd.to_datetime(historical_df['Close time']/1000,unit='s')"
   ],
   "metadata": {
    "collapsed": false,
    "pycharm": {
     "name": "#%%\n"
    }
   }
  },
  {
   "cell_type": "code",
   "execution_count": 28,
   "outputs": [],
   "source": [
    "# historical_df"
   ],
   "metadata": {
    "collapsed": false,
    "pycharm": {
     "name": "#%%\n"
    }
   }
  },
  {
   "cell_type": "code",
   "execution_count": 29,
   "outputs": [],
   "source": [
    "# to_numeric = ['Open', 'High', 'Low', 'Close', 'Volume', 'Quote asset volume', 'Number of trades',\n",
    "#"
   ],
   "metadata": {
    "collapsed": false,
    "pycharm": {
     "name": "#%%\n"
    }
   }
  }
 ],
 "metadata": {
  "kernelspec": {
   "display_name": "Python 3",
   "language": "python",
   "name": "python3"
  },
  "language_info": {
   "codemirror_mode": {
    "name": "ipython",
    "version": 2
   },
   "file_extension": ".py",
   "mimetype": "text/x-python",
   "name": "python",
   "nbconvert_exporter": "python",
   "pygments_lexer": "ipython2",
   "version": "2.7.6"
  }
 },
 "nbformat": 4,
 "nbformat_minor": 0
}
